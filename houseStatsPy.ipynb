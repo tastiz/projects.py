{
  "nbformat": 4,
  "nbformat_minor": 0,
  "metadata": {
    "colab": {
      "name": "houseStatsPy.ipynb",
      "provenance": [],
      "authorship_tag": "ABX9TyO5Hovl7moDXZAdK3bERALw",
      "include_colab_link": true
    },
    "kernelspec": {
      "name": "python3",
      "display_name": "Python 3"
    }
  },
  "cells": [
    {
      "cell_type": "markdown",
      "metadata": {
        "id": "view-in-github",
        "colab_type": "text"
      },
      "source": [
        "<a href=\"https://colab.research.google.com/github/tastiz/projects.py/blob/master/houseStatsPy.ipynb\" target=\"_parent\"><img src=\"https://colab.research.google.com/assets/colab-badge.svg\" alt=\"Open In Colab\"/></a>"
      ]
    },
    {
      "cell_type": "markdown",
      "metadata": {
        "id": "9hT2Z7vH7dNm",
        "colab_type": "text"
      },
      "source": [
        "Finds the amount of rows, which is 1460"
      ]
    },
    {
      "cell_type": "code",
      "metadata": {
        "id": "Wxkrp3p97cPE",
        "colab_type": "code",
        "colab": {
          "base_uri": "https://localhost:8080/",
          "height": 88
        },
        "outputId": "05eee773-db18-448e-87f4-82354567a31b"
      },
      "source": [
        "from sqlalchemy import create_engine\n",
        "import pandas as pd\n",
        "from scipy import stats\n",
        "import math\n",
        "\n",
        "# Database credentials\n",
        "postgres_user = 'dabc_student'\n",
        "postgres_pw = '7*.8G9QH21'\n",
        "postgres_host = '142.93.121.174'\n",
        "postgres_port = '5432'\n",
        "postgres_db = 'houseprices'\n",
        "\n",
        "# use the credentials to start a connection\n",
        "engine = create_engine('postgresql://{}:{}@{}:{}/{}'.format(\n",
        "    postgres_user, postgres_pw, postgres_host, postgres_port, postgres_db))\n",
        "\n",
        "houseprice_df = pd.read_sql_table('houseprices', con=engine)\n",
        "\n",
        "# remove the connection\n",
        "engine.dispose()\n",
        "\n",
        "houseprice_df.shape"
      ],
      "execution_count": 3,
      "outputs": [
        {
          "output_type": "stream",
          "text": [
            "/usr/local/lib/python3.6/dist-packages/psycopg2/__init__.py:144: UserWarning: The psycopg2 wheel package will be renamed from release 2.8; in order to keep installing from binary please use \"pip install psycopg2-binary\" instead. For details see: <http://initd.org/psycopg/docs/install.html#binary-install-from-pypi>.\n",
            "  \"\"\")\n"
          ],
          "name": "stderr"
        },
        {
          "output_type": "execute_result",
          "data": {
            "text/plain": [
              "(1460, 81)"
            ]
          },
          "metadata": {
            "tags": []
          },
          "execution_count": 3
        }
      ]
    },
    {
      "cell_type": "markdown",
      "metadata": {
        "id": "As9kzLEc7lvD",
        "colab_type": "text"
      },
      "source": [
        "Identifies the amount of null values in the table.  Alley type and lotfrontage are noteably have the most null values"
      ]
    },
    {
      "cell_type": "code",
      "metadata": {
        "id": "MtGIgY2R7mUZ",
        "colab_type": "code",
        "colab": {}
      },
      "source": [
        "houseprice_df.info(null_counts=True)"
      ],
      "execution_count": 0,
      "outputs": []
    },
    {
      "cell_type": "markdown",
      "metadata": {
        "id": "hcYXO89s8Lfp",
        "colab_type": "text"
      },
      "source": [
        "Returns the Types of mszoning and the count for each"
      ]
    },
    {
      "cell_type": "code",
      "metadata": {
        "id": "1eonzxnQ8MTn",
        "colab_type": "code",
        "colab": {}
      },
      "source": [
        "mszoning_count = houseprice_df['mszoning'].value_counts()\n",
        "mszoning_count"
      ],
      "execution_count": 0,
      "outputs": []
    },
    {
      "cell_type": "markdown",
      "metadata": {
        "id": "04NPIHSu9uvh",
        "colab_type": "text"
      },
      "source": [
        "Returns the types of street and associated count"
      ]
    },
    {
      "cell_type": "code",
      "metadata": {
        "id": "TWZojW2v9vcN",
        "colab_type": "code",
        "outputId": "8966838b-8a59-4b5c-a0aa-896cf4b7cf15",
        "colab": {
          "base_uri": "https://localhost:8080/",
          "height": 68
        }
      },
      "source": [
        "street_count = houseprice_df['street'].value_counts()\n",
        "street_count"
      ],
      "execution_count": 0,
      "outputs": [
        {
          "output_type": "execute_result",
          "data": {
            "text/plain": [
              "Pave    1454\n",
              "Grvl       6\n",
              "Name: street, dtype: int64"
            ]
          },
          "metadata": {
            "tags": []
          },
          "execution_count": 9
        }
      ]
    },
    {
      "cell_type": "markdown",
      "metadata": {
        "id": "9BzLIzEW9_yw",
        "colab_type": "text"
      },
      "source": [
        "Describes the range of values for the saleprice column"
      ]
    },
    {
      "cell_type": "code",
      "metadata": {
        "id": "G62cZBBT9_8h",
        "colab_type": "code",
        "colab": {}
      },
      "source": [
        "houseprice_df['saleprice'].describe()"
      ],
      "execution_count": 0,
      "outputs": []
    },
    {
      "cell_type": "markdown",
      "metadata": {
        "id": "mRzzkmpE-WYy",
        "colab_type": "text"
      },
      "source": [
        "Describes the range for the lotarea column"
      ]
    },
    {
      "cell_type": "code",
      "metadata": {
        "id": "ND51d7xv-WgM",
        "colab_type": "code",
        "colab": {}
      },
      "source": [
        "houseprice_df['lotarea'].describe()"
      ],
      "execution_count": 0,
      "outputs": []
    },
    {
      "cell_type": "markdown",
      "metadata": {
        "id": "oilERD5SBnC0",
        "colab_type": "text"
      },
      "source": [
        "Finding if a significant differnce betwen porchs and no porchs with their sales prices.  The resulting p-value of less than 0.05 suggests that we can reject the null hypothesis and there is a significant difference between sales prices of homes with porchs versus without."
      ]
    },
    {
      "cell_type": "code",
      "metadata": {
        "id": "qzcpxyECBvHr",
        "colab_type": "code",
        "colab": {
          "base_uri": "https://localhost:8080/",
          "height": 34
        },
        "outputId": "027bec5e-9b67-4fc5-db39-7a52fcfa0863"
      },
      "source": [
        "porch_house = houseprice_df.iloc[(houseprice_df['openporchsf'] > 0).values]\n",
        "no_porch_house = houseprice_df.iloc[(houseprice_df['openporchsf'] == 0).values]\n",
        "\n",
        "\n",
        "stats.ttest_ind(porch_house['saleprice'], no_porch_house['saleprice'])"
      ],
      "execution_count": 15,
      "outputs": [
        {
          "output_type": "execute_result",
          "data": {
            "text/plain": [
              "Ttest_indResult(statistic=17.31355834212178, pvalue=3.209770265256579e-61)"
            ]
          },
          "metadata": {
            "tags": []
          },
          "execution_count": 15
        }
      ]
    },
    {
      "cell_type": "markdown",
      "metadata": {
        "id": "ELSxdETC-eKg",
        "colab_type": "text"
      },
      "source": [
        "There is a low correlation of 0.26 between lotarea and sale price suggesting a low and positive correlation\n"
      ]
    },
    {
      "cell_type": "code",
      "metadata": {
        "id": "T7DtCExF-eS5",
        "colab_type": "code",
        "colab": {
          "base_uri": "https://localhost:8080/",
          "height": 111
        },
        "outputId": "08b84d41-47ef-4fae-a5ed-16138b375ade"
      },
      "source": [
        "from sqlalchemy import create_engine\n",
        "import pandas as pd\n",
        "from scipy import stats\n",
        "import math\n",
        "\n",
        "# Database credentials\n",
        "postgres_user = 'dabc_student'\n",
        "postgres_pw = '7*.8G9QH21'\n",
        "postgres_host = '142.93.121.174'\n",
        "postgres_port = '5432'\n",
        "postgres_db = 'houseprices'\n",
        "\n",
        "# use the credentials to start a connection\n",
        "engine = create_engine('postgresql://{}:{}@{}:{}/{}'.format(\n",
        "    postgres_user, postgres_pw, postgres_host, postgres_port, postgres_db))\n",
        "\n",
        "houseprice_df = pd.read_sql_table('houseprices', con=engine)\n",
        "\n",
        "# remove the connection\n",
        "engine.dispose()\n",
        "\n",
        "houseprice_df[['saleprice', 'lotarea']].corr()"
      ],
      "execution_count": 16,
      "outputs": [
        {
          "output_type": "execute_result",
          "data": {
            "text/html": [
              "<div>\n",
              "<style scoped>\n",
              "    .dataframe tbody tr th:only-of-type {\n",
              "        vertical-align: middle;\n",
              "    }\n",
              "\n",
              "    .dataframe tbody tr th {\n",
              "        vertical-align: top;\n",
              "    }\n",
              "\n",
              "    .dataframe thead th {\n",
              "        text-align: right;\n",
              "    }\n",
              "</style>\n",
              "<table border=\"1\" class=\"dataframe\">\n",
              "  <thead>\n",
              "    <tr style=\"text-align: right;\">\n",
              "      <th></th>\n",
              "      <th>saleprice</th>\n",
              "      <th>lotarea</th>\n",
              "    </tr>\n",
              "  </thead>\n",
              "  <tbody>\n",
              "    <tr>\n",
              "      <th>saleprice</th>\n",
              "      <td>1.000000</td>\n",
              "      <td>0.263843</td>\n",
              "    </tr>\n",
              "    <tr>\n",
              "      <th>lotarea</th>\n",
              "      <td>0.263843</td>\n",
              "      <td>1.000000</td>\n",
              "    </tr>\n",
              "  </tbody>\n",
              "</table>\n",
              "</div>"
            ],
            "text/plain": [
              "           saleprice   lotarea\n",
              "saleprice   1.000000  0.263843\n",
              "lotarea     0.263843  1.000000"
            ]
          },
          "metadata": {
            "tags": []
          },
          "execution_count": 16
        }
      ]
    }
  ]
}