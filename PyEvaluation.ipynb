{
  "nbformat": 4,
  "nbformat_minor": 0,
  "metadata": {
    "colab": {
      "name": "PyEvaluation.ipynb",
      "provenance": [],
      "authorship_tag": "ABX9TyO/xpFwC2Man4uB28IY/6ye",
      "include_colab_link": true
    },
    "kernelspec": {
      "name": "python3",
      "display_name": "Python 3"
    }
  },
  "cells": [
    {
      "cell_type": "markdown",
      "metadata": {
        "id": "view-in-github",
        "colab_type": "text"
      },
      "source": [
        "<a href=\"https://colab.research.google.com/github/tastiz/projects.py/blob/master/PyEvaluation.ipynb\" target=\"_parent\"><img src=\"https://colab.research.google.com/assets/colab-badge.svg\" alt=\"Open In Colab\"/></a>"
      ]
    },
    {
      "cell_type": "markdown",
      "metadata": {
        "id": "b9PnPbjrKfAi",
        "colab_type": "text"
      },
      "source": [
        "Reverses a string two ways"
      ]
    },
    {
      "cell_type": "code",
      "metadata": {
        "id": "bgogUhESKZbr",
        "colab_type": "code",
        "outputId": "cdbb28db-6449-44b9-e958-37372c69728f",
        "colab": {
          "base_uri": "https://localhost:8080/",
          "height": 51
        }
      },
      "source": [
        "def function_reverse(x):\n",
        "  print(x[::-1])\n",
        "\n",
        "function_reverse('forward')\n",
        "\n",
        "def reverse(string):\n",
        "  reversed_string = ''\n",
        "  for i in string:\n",
        "    reversed_string = i+reversed_string\n",
        "  print(string +' reversed string is:',reversed_string)\n",
        "\n",
        "reverse('forward')"
      ],
      "execution_count": 0,
      "outputs": [
        {
          "output_type": "stream",
          "text": [
            "drawrof\n",
            "forward reversed string is: drawrof\n"
          ],
          "name": "stdout"
        }
      ]
    },
    {
      "cell_type": "code",
      "metadata": {
        "id": "QXy0BWhDIfL4",
        "colab_type": "code",
        "colab": {}
      },
      "source": [
        "# Import the SQL ALchemy engine\n",
        "from sqlalchemy import create_engine\n",
        "import pandas as pd\n",
        "\n",
        "# Database credentials\n",
        "postgres_user = 'dabc_student'\n",
        "postgres_pw = '7*.8G9QH21'\n",
        "postgres_host = '142.93.121.174'\n",
        "postgres_port = '5432'\n",
        "postgres_db = 'bitcoinhistoricaldata'\n",
        "\n",
        "# use the credentials to start a connection\n",
        "engine = create_engine('postgresql://{}:{}@{}:{}/{}'.format(\n",
        "    postgres_user, postgres_pw, postgres_host, postgres_port, postgres_db))\n"
      ],
      "execution_count": 0,
      "outputs": []
    },
    {
      "cell_type": "markdown",
      "metadata": {
        "id": "GZ6pLOaaJZWO",
        "colab_type": "text"
      },
      "source": [
        "Discover the table names, which can then be explored to find common column names to join tables together"
      ]
    },
    {
      "cell_type": "code",
      "metadata": {
        "id": "nNJu5xuNJZlN",
        "colab_type": "code",
        "colab": {}
      },
      "source": [
        "sql=\"\"\"\n",
        "SELECT\n",
        "   tablename\n",
        "FROM\n",
        "   pg_catalog.pg_tables\n",
        "WHERE\n",
        "   schemaname != 'pg_catalog'\n",
        "AND schemaname != 'information_schema';\"\"\"\n",
        "\n",
        "print(pd.read_sql_query(sql, engine))"
      ],
      "execution_count": 0,
      "outputs": []
    },
    {
      "cell_type": "code",
      "metadata": {
        "id": "tVp-8JZ7JfeP",
        "colab_type": "code",
        "colab": {}
      },
      "source": [
        "bitstamp_df = pd.read_sql_table('bitstamp', con=engine)\n",
        "engine.dispose()\n",
        "\n",
        "bitstamp_df.columns\n"
      ],
      "execution_count": 0,
      "outputs": []
    },
    {
      "cell_type": "code",
      "metadata": {
        "id": "1AutVdJQMN0c",
        "colab_type": "code",
        "colab": {}
      },
      "source": [
        "bitflyer_df = pd.read_sql_table('bitflyer', con=engine)\n",
        "engine.dispose()\n",
        "\n",
        "bitflyer_df.columns\n"
      ],
      "execution_count": 0,
      "outputs": []
    },
    {
      "cell_type": "code",
      "metadata": {
        "id": "7xXw4ffcMscY",
        "colab_type": "code",
        "colab": {}
      },
      "source": [
        "coinbase_df = pd.read_sql_table('coinbase', con=engine)\n",
        "engine.dispose()\n",
        "\n",
        "coinbase_df.columns\n"
      ],
      "execution_count": 0,
      "outputs": []
    },
    {
      "cell_type": "code",
      "metadata": {
        "id": "ci5M1xV5Mwyu",
        "colab_type": "code",
        "colab": {}
      },
      "source": [
        "coincheck_df = pd.read_sql_table('coincheck', con=engine)\n",
        "engine.dispose()\n",
        "\n",
        "coincheck_df.columns"
      ],
      "execution_count": 0,
      "outputs": []
    },
    {
      "cell_type": "markdown",
      "metadata": {
        "id": "jQrBY52UObyU",
        "colab_type": "text"
      },
      "source": [
        "Joins all tables together on ID\n",
        "\n",
        "> Indented block\n",
        "\n"
      ]
    },
    {
      "cell_type": "code",
      "metadata": {
        "id": "Y6Ovi6STN68V",
        "colab_type": "code",
        "colab": {}
      },
      "source": [
        "sql = 'SELECT * FROM bitstamp bs JOIN bitflyer bf ON bs.id=bf.id JOIN coinbase cb ON bs.id=cb.id JOIN coincheck cc ON bs.id=cc.id'\n",
        "print(pd.read_sql_query(sql, engine))"
      ],
      "execution_count": 0,
      "outputs": []
    }
  ]
}