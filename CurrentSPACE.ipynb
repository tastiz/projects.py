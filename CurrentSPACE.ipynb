{
  "nbformat": 4,
  "nbformat_minor": 0,
  "metadata": {
    "colab": {
      "name": "CurrentSPACE.ipynb",
      "provenance": [],
      "authorship_tag": "ABX9TyPNX5SpH1yHfTL4oz0XgtG+",
      "include_colab_link": true
    },
    "kernelspec": {
      "name": "python3",
      "display_name": "Python 3"
    }
  },
  "cells": [
    {
      "cell_type": "markdown",
      "metadata": {
        "id": "view-in-github",
        "colab_type": "text"
      },
      "source": [
        "<a href=\"https://colab.research.google.com/github/tastiz/projects.py/blob/master/CurrentSPACE.ipynb\" target=\"_parent\"><img src=\"https://colab.research.google.com/assets/colab-badge.svg\" alt=\"Open In Colab\"/></a>"
      ]
    },
    {
      "cell_type": "code",
      "metadata": {
        "id": "rJ5dfWIjyI5F",
        "colab_type": "code",
        "outputId": "3afbf9eb-7265-4cef-e062-15d8f8649f19",
        "colab": {
          "base_uri": "https://localhost:8080/",
          "height": 71
        }
      },
      "source": [
        "import requests\n",
        "from bs4 import BeautifulSoup\n",
        "\n",
        "url = 'https://www.space.com/news'\n",
        "response = requests.get(url)\n",
        "\n",
        "if(response.ok):\n",
        "  data = response.text\n",
        "  print(response.ok)\n",
        "\n",
        "soup = BeautifulSoup(data, 'html.parser')\n",
        "div = soup.find('div', class_=\"listingResults mixed\")\n",
        "\n",
        "#finds the article title and creates a list with the headliens\n",
        "article_name = div.find_all('h3', class_=\"article-name\")\n",
        "headlines = [headline.get_text() for headline in article_name]\n",
        "clean_headlines = [headline.strip('\\n') for headline in headlines]\n",
        "news_list = []\n",
        "for article_title in clean_headlines:\n",
        "  news_list.append(article_title)\n",
        "\n",
        "#finding the author name and stripping it clean\n",
        "author_fullname = div.find_all('span', class_=\"by-author\")\n",
        "authors = [author.get_text() for author in author_fullname]\n",
        "clean_authors = [name.strip('\\n') for name in authors]\n",
        "more_clean_authors = [name.strip('By\\n\\n') for name in clean_authors]\n",
        "author_list = []\n",
        "for author_name in more_clean_authors:\n",
        "  author_list.append(author_name)\n",
        "\n",
        "#strip the junk around the timestamp\n",
        "time_stamps = div.find_all('time', class_=\"published-date relative-date\")\n",
        "clean_time = [time.attrs.get('datetime') for time in time_stamps]\n",
        "\n",
        "#creates a cleaned list of the article summaries\n",
        "synopsis_all = div.find_all('p', class_=\"synopsis\")\n",
        "summaries = [summary.get_text() for summary in synopsis_all]\n",
        "clean_summaries = [summary.strip('\\n') for summary in summaries]\n",
        "synopsis_list = []\n",
        "for abreviated in clean_summaries:\n",
        "  synopsis_list.append(abreviated)\n",
        "\n",
        "#makes a list with the elements together\n",
        "full_story = []\n",
        "for i in range(len(clean_headlines)):\n",
        "  full_story.append(str(clean_headlines[i]) + ' by ' + str(more_clean_authors[i]) + ':' + str(clean_summaries[i]) + ' ' +clean_time[i])\n",
        "print(full_story)"
      ],
      "execution_count": 23,
      "outputs": [
        {
          "output_type": "stream",
          "text": [
            "True\n",
            "[\"Trump's 2021 NASA budget request supports X-59 experimental supersonic jet development by Chelsea Gohd :NASA renews funding support for their Lockheed Martin-built experimental supersonic X-plane, which the agency says will make its inaugural flight in 2022. 2020-02-11T22:00:48Z\", \"Mysterious 'fast radio bursts' from deep space repeat themselves every 16 days by Rafi Letzter :For the first time, astrophysicists have detected a pattern in fast radio bursts, one of the most mysterious phenomena in the universe. 2020-02-11T21:00:05Z\", 'Massive asteroid Pallas has a violent, cratered past, study reveals by Charles Q. Choi :This big asteroid is seriously cratered. 2020-02-11T18:56:04Z', \"For stargazers, the Big Dipper is a celestial compass, clock, calendar and ruler. Here’s how to use it. by Joe Rao :The Dipper is more than just a bright and familiar star pattern. It's a compass, a clock, a calendar and a ruler all rolled into one! 2020-02-11T17:00:05Z\", \"2 Russian satellites are stalking a US spysat in orbit. The Space Force is watching. (Report) by Chelsea Gohd :A United States satellite that's used to spy on other countries is being trailed by two Russian satellites, according to the commander of the U.S. Space Force. 2020-02-11T16:09:28Z\", \"Pictures from space! Our image of the day by Space.com Staff :An Antares rocket topped with Northrop Grumman's Cygnus NG-13 cargo spacecraft stands ready for launch under the almost-super Full Snow Moon at NASA's Wallops Flight Facility in Virginia. 2020-02-11T14:47:57Z\", 'On This Day in Space: Feb. 11, 2010: NASA launches Solar Dynamics Observatory by Hanneke Weitering :On Feb. 11, 2010, NASA launched a spacecraft to study the inner workings of the sun. See how it happened in our On This Day in Space video series! 2020-02-11T12:34:35Z', \"What's next for Solar Orbiter after its historic launch to the sun by Amy Thompson :Here's a look at what's next for the European Space Agency's Solar Orbiter as it begins its long trek to the sun. 2020-02-11T12:29:55Z\", \"Europe's planet-hunting CHEOPS telescope beams down its first image. It's better than expected by Chelsea Gohd :A planet-hunting probe has taken its first photos, and they're better than expected! 2020-02-11T12:26:24Z\", \"NASA's Mars sample-return plans get a boost in 2021 budget request  by Mike Wall :'Mars Future Missions' get $233 million in the newly unveiled 2021 budget request. 2020-02-11T12:16:58Z\", \"Solar Orbiter: The US-European mission to explore the sun's poles in photos by Space.com Staff :Take a look at Solar Orbiter, a spacecraft launched Feb. 9, 2020, on a mission to observe the sun in incredible, scorching detail. 2020-02-11T08:52:30Z\", \"Space Force gets $15.4 billion in 2021 budget request by Mike Wall :That's about 60% of what the White House allocates to NASA. 2020-02-10T21:52:32Z\", \"Trump's 2021 NASA budget proposal axes 2 telescopes, 2 Earth science missions & STEM grants by Chelsea Gohd :In the Trump administration's federal budget request for 2021, NASA proposes the cancellation of two telescopes, two earth science programs and STEM engagement efforts. 2020-02-10T21:12:00Z\", \"Iran satellite launch fails to reach orbit by Mike Wall :Iran launched a communications satellite called Zafar 1 atop a Simorgh rocket at 10:45 a.m. EST Sunday (Feb. 9). But the spacecraft didn't make it all the way to orbit. 2020-02-10T19:03:51Z\", \"Trump calls for $25 billion NASA budget for 2021 to boost moon and Mars goals by Meghan Bartels :President Donald Trump wants to raise NASA's budget to $25.2 billion for the fiscal year beginning in October, an increase of 12% over the current year's funding. 2020-02-10T18:30:09Z\", \"Watch live @ 1 pm ET: NASA chief talks 'State of NASA' and 2021 budget request by Space.com Staff : 2020-02-10T13:14:51Z\", \"To find alien life, we should focus on white dwarf stars by Paul Sutter :As far as we can tell, we're alone. But it could be that we're looking in the wrong places. 2020-02-10T12:00:26Z\", \"Our sun will never look the same again thanks to two solar probes and one giant telescope by Meghan Bartels :It's always sunny for heliophysicists, but especially so now. 2020-02-10T12:00:06Z\", \"Satellite spies gigantic 'fuzzball' clouds spreading near Australia coast by Yasemin Saplakoglu :Satellite passing overhead can see an entirely different canvas of clouds. 2020-02-10T11:30:08Z\", \"'Planetary simulator' could help identify habitable alien worlds by Meghan Bartels :Say what you will about winter's chill and summer's burn — Earth's climate is pretty great for life as we know it. 2020-02-10T11:00:38Z\"]\n"
          ],
          "name": "stdout"
        }
      ]
    }
  ]
}