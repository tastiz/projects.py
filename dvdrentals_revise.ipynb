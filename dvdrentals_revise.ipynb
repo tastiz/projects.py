{
  "nbformat": 4,
  "nbformat_minor": 0,
  "metadata": {
    "colab": {
      "name": "dvdrentals_revise",
      "provenance": [],
      "authorship_tag": "ABX9TyObuLUjX/TWVkoD3mzUDRcG",
      "include_colab_link": true
    },
    "kernelspec": {
      "name": "python3",
      "display_name": "Python 3"
    }
  },
  "cells": [
    {
      "cell_type": "markdown",
      "metadata": {
        "id": "view-in-github",
        "colab_type": "text"
      },
      "source": [
        "<a href=\"https://colab.research.google.com/github/tastiz/projects.py/blob/master/dvdrentals_revise.ipynb\" target=\"_parent\"><img src=\"https://colab.research.google.com/assets/colab-badge.svg\" alt=\"Open In Colab\"/></a>"
      ]
    },
    {
      "cell_type": "code",
      "metadata": {
        "id": "2yV5B7d-aaQ3",
        "colab_type": "code",
        "colab": {
          "base_uri": "https://localhost:8080/",
          "height": 102
        },
        "outputId": "fe65c190-bd41-4e63-8cdb-a1b42cd254fd"
      },
      "source": [
        "\n",
        "from sqlalchemy import create_engine\n",
        "\n",
        "# Database credentials\n",
        "postgres_user = 'dsbc_student'\n",
        "postgres_pw = '7*.8G9QH21'\n",
        "postgres_host = '142.93.121.174'\n",
        "postgres_port = '5432'\n",
        "postgres_db = 'dvdrentals'\n",
        "\n",
        "# use the credentials to start a connection\n",
        "engine = create_engine('postgresql://{}:{}@{}:{}/{}'.format(\n",
        "    postgres_user, postgres_pw, postgres_host, postgres_port, postgres_db))\n",
        "\n",
        "# finds the number of movies at each rating\n",
        "sql = 'SELECT rating, COUNT(*) FROM film GROUP BY rating'\n",
        "\n",
        "count_ratings = engine.execute(sql)\n",
        "\n",
        "engine.dispose()\n",
        "\n",
        "for row in count_ratings:\n",
        "  print(row)"
      ],
      "execution_count": 61,
      "outputs": [
        {
          "output_type": "stream",
          "text": [
            "('R', 195)\n",
            "('NC-17', 210)\n",
            "('PG', 194)\n",
            "('PG-13', 223)\n",
            "('G', 178)\n"
          ],
          "name": "stdout"
        }
      ]
    },
    {
      "cell_type": "code",
      "metadata": {
        "id": "FdeMoKkKeFl2",
        "colab_type": "code",
        "colab": {
          "base_uri": "https://localhost:8080/",
          "height": 102
        },
        "outputId": "3c165a2b-5cc0-4bed-fec0-41969ea48e87"
      },
      "source": [
        "\n",
        "from sqlalchemy import create_engine\n",
        "\n",
        "# Database credentials\n",
        "postgres_user = 'dsbc_student'\n",
        "postgres_pw = '7*.8G9QH21'\n",
        "postgres_host = '142.93.121.174'\n",
        "postgres_port = '5432'\n",
        "postgres_db = 'dvdrentals'\n",
        "\n",
        "# use the credentials to start a connection\n",
        "engine = create_engine('postgresql://{}:{}@{}:{}/{}'.format(\n",
        "    postgres_user, postgres_pw, postgres_host, postgres_port, postgres_db))\n",
        "\n",
        "#finds the average days rented for each rating\n",
        "sql = 'SELECT rating, ROUND(AVG(rental_duration),1) FROM film GROUP BY rating'\n",
        "\n",
        "average_rental_time = engine.execute(sql)\n",
        "\n",
        "engine.dispose()\n",
        "\n",
        "for row in average_rental_time:\n",
        "  print(row)\n"
      ],
      "execution_count": 62,
      "outputs": [
        {
          "output_type": "stream",
          "text": [
            "('R', Decimal('4.8'))\n",
            "('NC-17', Decimal('5.1'))\n",
            "('PG', Decimal('5.1'))\n",
            "('PG-13', Decimal('5.1'))\n",
            "('G', Decimal('4.8'))\n"
          ],
          "name": "stdout"
        }
      ]
    },
    {
      "cell_type": "code",
      "metadata": {
        "id": "fxWxAVabgyit",
        "colab_type": "code",
        "colab": {
          "base_uri": "https://localhost:8080/",
          "height": 34
        },
        "outputId": "f450ff53-7107-43e2-81c1-b95740bfdf0b"
      },
      "source": [
        "\n",
        "from sqlalchemy import create_engine\n",
        "\n",
        "# Database credentials\n",
        "postgres_user = 'dsbc_student'\n",
        "postgres_pw = '7*.8G9QH21'\n",
        "postgres_host = '142.93.121.174'\n",
        "postgres_port = '5432'\n",
        "postgres_db = 'dvdrentals'\n",
        "\n",
        "# use the credentials to start a connection\n",
        "engine = create_engine('postgresql://{}:{}@{}:{}/{}'.format(\n",
        "    postgres_user, postgres_pw, postgres_host, postgres_port, postgres_db))\n",
        "\n",
        "#finds the information to run through the average function\n",
        "sql = 'SELECT length FROM film'\n",
        "\n",
        "film_time = engine.execute(sql)\n",
        "\n",
        "engine.dispose()\n",
        "\n",
        "running_time_list = [x['length'] for x in rows]\n",
        "\n",
        "def average_time(running_time_list):\n",
        "  count = len(running_time_list)\n",
        "  total = 0\n",
        "  for time in running_time_list:\n",
        "    total += time\n",
        "  found_average = total / count\n",
        "  print('The average running time for these films is {} minutes.'.format(found_average))\n",
        "\n",
        "average_time(running_time_list)\n",
        "\n"
      ],
      "execution_count": 63,
      "outputs": [
        {
          "output_type": "stream",
          "text": [
            "The average running time for these films is 115.272 minutes.\n"
          ],
          "name": "stdout"
        }
      ]
    },
    {
      "cell_type": "code",
      "metadata": {
        "id": "IDSY8QahjEc1",
        "colab_type": "code",
        "colab": {
          "base_uri": "https://localhost:8080/",
          "height": 34
        },
        "outputId": "d5f89a92-1169-4ac0-d043-72383be4ded1"
      },
      "source": [
        "import math\n",
        "from sqlalchemy import create_engine\n",
        "\n",
        "# Database credentials\n",
        "postgres_user = 'dsbc_student'\n",
        "postgres_pw = '7*.8G9QH21'\n",
        "postgres_host = '142.93.121.174'\n",
        "postgres_port = '5432'\n",
        "postgres_db = 'dvdrentals'\n",
        "\n",
        "# use the credentials to start a connection\n",
        "engine = create_engine('postgresql://{}:{}@{}:{}/{}'.format(\n",
        "    postgres_user, postgres_pw, postgres_host, postgres_port, postgres_db))\n",
        "\n",
        "sql = 'SELECT length FROM film'\n",
        "\n",
        "running_time = engine.execute(sql)\n",
        "\n",
        "engine.dispose()\n",
        "\n",
        "running_time_list = [row['length'] for row in rows]\n",
        "\n",
        "def median_find(running_time_list):\n",
        "  count = len(running_time_list)\n",
        "  is_even = count % 2 == 0 \n",
        "  if(is_even):\n",
        "    mid = math.floor(count/2)\n",
        "    a = running_time_list[mid -1]\n",
        "    b = running_time_list[mid]\n",
        "    median_result = (a+b) / 2\n",
        "  else:\n",
        "    median_result = running_time_list[math.floor(count / 2)]\n",
        "\n",
        "  print('The median film length is {} minutes.'.format(median_result))\n",
        "\n",
        "median_find(running_time_list)"
      ],
      "execution_count": 64,
      "outputs": [
        {
          "output_type": "stream",
          "text": [
            "The median film length is 152.0 minutes.\n"
          ],
          "name": "stdout"
        }
      ]
    },
    {
      "cell_type": "code",
      "metadata": {
        "id": "yO_WkyKvju3V",
        "colab_type": "code",
        "colab": {
          "base_uri": "https://localhost:8080/",
          "height": 34
        },
        "outputId": "08c8ead3-a5f1-427a-9d37-10cf960c1bc6"
      },
      "source": [
        "import math\n",
        "from sqlalchemy import create_engine\n",
        "\n",
        "# Database credentials\n",
        "postgres_user = 'dsbc_student'\n",
        "postgres_pw = '7*.8G9QH21'\n",
        "postgres_host = '142.93.121.174'\n",
        "postgres_port = '5432'\n",
        "postgres_db = 'dvdrentals'\n",
        "\n",
        "# use the credentials to start a connection\n",
        "engine = create_engine('postgresql://{}:{}@{}:{}/{}'.format(\n",
        "    postgres_user, postgres_pw, postgres_host, postgres_port, postgres_db))\n",
        "\n",
        "sql = 'SELECT length FROM film'\n",
        "\n",
        "running_time = engine.execute(sql)\n",
        "\n",
        "engine.dispose()\n",
        "\n",
        "running_time_list = [row['length'] for row in rows]\n",
        "def average_time(running_time_list):\n",
        "  count = len(running_time_list)\n",
        "  total = 0\n",
        "  for time in running_time_list:\n",
        "    total += time\n",
        "  found_average = total / count\n",
        "  return found_average\n",
        "\n",
        "def std_deviation(running_time_list):\n",
        "  x_bar = average_time(running_time_list)\n",
        "  n = len(running_time_list)\n",
        "  total_sum = 0\n",
        "  for time in running_time_list:\n",
        "    diff = int(time) - x_bar\n",
        "    squared = math.pow(diff, 2)\n",
        "    total_sum += squared\n",
        "  sigma = math.sqrt(total_sum/(n-1))\n",
        "  return sigma\n",
        "\n",
        "print('The standard devation for the film lenth is {} minutes.'.format(std_deviation(running_time_list)))\n"
      ],
      "execution_count": 60,
      "outputs": [
        {
          "output_type": "stream",
          "text": [
            "The standard devation for the film lenth is 40.42633181855987 minutes.\n"
          ],
          "name": "stdout"
        }
      ]
    }
  ]
}