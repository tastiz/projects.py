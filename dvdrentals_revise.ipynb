{
  "nbformat": 4,
  "nbformat_minor": 0,
  "metadata": {
    "colab": {
      "name": "dvdrentals_revise",
      "provenance": [],
      "authorship_tag": "ABX9TyPE8vRrr/gxZAGXsathJ1co",
      "include_colab_link": true
    },
    "kernelspec": {
      "name": "python3",
      "display_name": "Python 3"
    }
  },
  "cells": [
    {
      "cell_type": "markdown",
      "metadata": {
        "id": "view-in-github",
        "colab_type": "text"
      },
      "source": [
        "<a href=\"https://colab.research.google.com/github/tastiz/projects.py/blob/master/dvdrentals_revise.ipynb\" target=\"_parent\"><img src=\"https://colab.research.google.com/assets/colab-badge.svg\" alt=\"Open In Colab\"/></a>"
      ]
    },
    {
      "cell_type": "code",
      "metadata": {
        "id": "qzq-wpIvfgdC",
        "colab_type": "code",
        "colab": {
          "base_uri": "https://localhost:8080/",
          "height": 255
        },
        "outputId": "b876a511-0e38-4757-955a-c9e15dc64086"
      },
      "source": [
        "import math\n",
        "from sqlalchemy import create_engine\n",
        "\n",
        "# Database credentials\n",
        "postgres_user = 'dsbc_student'\n",
        "postgres_pw = '7*.8G9QH21'\n",
        "postgres_host = '142.93.121.174'\n",
        "postgres_port = '5432'\n",
        "postgres_db = 'dvdrentals'\n",
        "\n",
        "# use the credentials to start a connection\n",
        "engine = create_engine('postgresql://{}:{}@{}:{}/{}'.format(\n",
        "    postgres_user, postgres_pw, postgres_host, postgres_port, postgres_db))\n",
        "sql = 'SELECT * FROM film LIMIT 1'\n",
        "\n",
        "reference = engine.execute(sql)\n",
        "\n",
        "engine.dispose()\n",
        "\n",
        "reference.keys()"
      ],
      "execution_count": 28,
      "outputs": [
        {
          "output_type": "execute_result",
          "data": {
            "text/plain": [
              "['film_id',\n",
              " 'title',\n",
              " 'description',\n",
              " 'release_year',\n",
              " 'language_id',\n",
              " 'original_language_id',\n",
              " 'rental_duration',\n",
              " 'rental_rate',\n",
              " 'length',\n",
              " 'replacement_cost',\n",
              " 'rating',\n",
              " 'last_update',\n",
              " 'special_features',\n",
              " 'fulltext']"
            ]
          },
          "metadata": {
            "tags": []
          },
          "execution_count": 28
        }
      ]
    },
    {
      "cell_type": "code",
      "metadata": {
        "id": "jCDFSDa6Sstw",
        "colab_type": "code",
        "colab": {}
      },
      "source": [
        "import math\n",
        "from sqlalchemy import create_engine\n",
        "\n",
        "# Database credentials\n",
        "postgres_user = 'dsbc_student'\n",
        "postgres_pw = '7*.8G9QH21'\n",
        "postgres_host = '142.93.121.174'\n",
        "postgres_port = '5432'\n",
        "postgres_db = 'dvdrentals'\n",
        "\n",
        "# use the credentials to start a connection\n",
        "engine = create_engine('postgresql://{}:{}@{}:{}/{}'.format(\n",
        "    postgres_user, postgres_pw, postgres_host, postgres_port, postgres_db))\n",
        "\n",
        "\n",
        "\n",
        "#Selects all columns from dvdrentals table\n",
        "sql = '''SELECT COUNT(*) FROM film'''\n",
        "\n",
        "dvds = engine.execute(sql)\n",
        "\n",
        "engine.dispose()\n",
        "\n",
        "\n",
        "#Counts the amount of movies at each rating\n",
        "sql = '''SELECT COUNT(DISTINCT rating) FROM film'''\n",
        "\n",
        "engine = create_engine('postgresql://{}:{}@{}:{}/{}'.format(\n",
        "    postgres_user, postgres_pw, postgres_host, postgres_port, postgres_db))\n",
        "\n",
        "rating_count = engine.execute(sql)\n",
        "\n",
        "engine.dispose()\n",
        "\n",
        "rows = rating_count.fetchall()\n",
        "\n",
        "#Average rental duration for each rating\n",
        "sql = '''SELECT AVG(rental_duration) FROM film'''\n",
        "\n",
        "engine = create_engine('postgresql://{}:{}@{}:{}/{}'.format(\n",
        "    postgres_user, postgres_pw, postgres_host, postgres_port, postgres_db))\n",
        "\n",
        "rental_time = engine.execute(sql)\n",
        "\n",
        "engine.dispose()\n",
        "\n",
        "rows = rental_time.fetchall()\n",
        "\n",
        "#Select all movies by length of film and run through a function to find the mean\n",
        "sql = '''SELECT length FROM film '''\n",
        "\n",
        "engine = create_engine('postgresql://{}:{}@{}:{}/{}'.format(\n",
        "    postgres_user, postgres_pw, postgres_host, postgres_port, postgres_db))\n",
        "\n",
        "running_time = engine.execute(sql)\n",
        "\n",
        "engine.dispose()\n",
        "\n",
        "rows = running_time.fetchall()\n",
        "\n",
        "running_time_list = [x['length'] for x in rows]\n",
        "print(running_time_list)\n",
        "\n",
        "#find the average running time for all films\n",
        "def mean(running_time_list):\n",
        "  total_time = 0\n",
        "  for time in running_time_list:\n",
        "    total_time += time\n",
        "  print(total_time)\n",
        "  print(\"running time list = \")\n",
        "  print(running_time_list)\n",
        "  total_movies = len(running_time_list)\n",
        "  average_time = total_time / 1\n",
        "  return average_time\n",
        "print('The average running time for movies is {} minutes.'.format(mean(running_time_list)))\n",
        "\n",
        "#finds the median running time\n",
        "def median(running_time_list):\n",
        "  running_time.sort()\n",
        "  total_movies = len(running_time_list)\n",
        "  isEven = total_movies % 2 == 0 \n",
        "\n",
        "  if (isEven):\n",
        "    mid = math.floor(total_movies / 2)\n",
        "    a = running_time[mid -1]\n",
        "    b = running_time[mid]\n",
        "    result = (a +b) / 2\n",
        "  else:\n",
        "    result = running_time[math.floor(total_movies / 2)]\n",
        "\n",
        "  return result\n",
        "\n",
        "#finds the standard deviation of the movie times\n",
        "def std_deviation(running_time_list):\n",
        "  x_bar = mean(running_time_list)\n",
        "  n = len(running_time_list)\n",
        "  total_sum = 0\n",
        "  for time in running_time_list:\n",
        "    diff = time - x_bar\n",
        "    squared = math.pow(diff, 2)\n",
        "    total_sum += squared\n",
        "  sigma = math.sqrt(total_sum / (n -1))\n",
        "  return sigma\n",
        "print('The standard deviation for movie times is {} minutes'.format(std_deviation(running_time_list)))"
      ],
      "execution_count": 0,
      "outputs": []
    },
    {
      "cell_type": "code",
      "metadata": {
        "id": "2yV5B7d-aaQ3",
        "colab_type": "code",
        "colab": {}
      },
      "source": [
        "import math\n",
        "from sqlalchemy import create_engine\n",
        "\n",
        "# Database credentials\n",
        "postgres_user = 'dsbc_student'\n",
        "postgres_pw = '7*.8G9QH21'\n",
        "postgres_host = '142.93.121.174'\n",
        "postgres_port = '5432'\n",
        "postgres_db = 'dvdrentals'\n",
        "\n",
        "# use the credentials to start a connection\n",
        "engine = create_engine('postgresql://{}:{}@{}:{}/{}'.format(\n",
        "    postgres_user, postgres_pw, postgres_host, postgres_port, postgres_db))\n",
        "\n",
        "# finds the number of movies at each rating\n",
        "sql = 'SELECT rating, COUNT(*) FROM film GROUP BY rating'\n",
        "\n",
        "count_ratings = engine.execute(sql)\n",
        "\n",
        "engine.dispose()\n",
        "\n",
        "for row in count_ratings:\n",
        "  print(row)"
      ],
      "execution_count": 0,
      "outputs": []
    },
    {
      "cell_type": "code",
      "metadata": {
        "id": "FdeMoKkKeFl2",
        "colab_type": "code",
        "colab": {}
      },
      "source": [
        "import math\n",
        "from sqlalchemy import create_engine\n",
        "\n",
        "# Database credentials\n",
        "postgres_user = 'dsbc_student'\n",
        "postgres_pw = '7*.8G9QH21'\n",
        "postgres_host = '142.93.121.174'\n",
        "postgres_port = '5432'\n",
        "postgres_db = 'dvdrentals'\n",
        "\n",
        "# use the credentials to start a connection\n",
        "engine = create_engine('postgresql://{}:{}@{}:{}/{}'.format(\n",
        "    postgres_user, postgres_pw, postgres_host, postgres_port, postgres_db))\n",
        "\n",
        "#finds the average days rented for each rating\n",
        "sql = 'SELECT rating, ROUND(AVG(rental_duration),1) FROM film GROUP BY rating'\n",
        "\n",
        "average_rental_time = engine.execute(sql)\n",
        "\n",
        "engine.dispose()\n",
        "\n",
        "for row in average_rental_time:\n",
        "  print(row)\n"
      ],
      "execution_count": 0,
      "outputs": []
    },
    {
      "cell_type": "code",
      "metadata": {
        "id": "fxWxAVabgyit",
        "colab_type": "code",
        "colab": {
          "base_uri": "https://localhost:8080/",
          "height": 34
        },
        "outputId": "f05096da-9820-46b2-fd14-764c75a29fc6"
      },
      "source": [
        "import math\n",
        "from sqlalchemy import create_engine\n",
        "\n",
        "# Database credentials\n",
        "postgres_user = 'dsbc_student'\n",
        "postgres_pw = '7*.8G9QH21'\n",
        "postgres_host = '142.93.121.174'\n",
        "postgres_port = '5432'\n",
        "postgres_db = 'dvdrentals'\n",
        "\n",
        "# use the credentials to start a connection\n",
        "engine = create_engine('postgresql://{}:{}@{}:{}/{}'.format(\n",
        "    postgres_user, postgres_pw, postgres_host, postgres_port, postgres_db))\n",
        "\n",
        "#finds the information to run through the average function\n",
        "sql = 'SELECT length FROM film'\n",
        "\n",
        "film_time = engine.execute(sql)\n",
        "\n",
        "engine.dispose()\n",
        "\n",
        "running_time_list = [x['length'] for x in rows]\n",
        "\n",
        "def average_time(running_time_list):\n",
        "  count = len(running_time_list)\n",
        "  total = 0\n",
        "  for time in running_time_list:\n",
        "    total += time\n",
        "  found_average = total / count\n",
        "  print('The average running time for these films is {} minutes.'.format(found_average))\n",
        "\n",
        "average_time(running_time_list)\n",
        "\n"
      ],
      "execution_count": 47,
      "outputs": [
        {
          "output_type": "stream",
          "text": [
            "The average running time for these films is 115.272 minutes.\n"
          ],
          "name": "stdout"
        }
      ]
    },
    {
      "cell_type": "code",
      "metadata": {
        "id": "IDSY8QahjEc1",
        "colab_type": "code",
        "colab": {}
      },
      "source": [
        "import math\n",
        "from sqlalchemy import create_engine\n",
        "\n",
        "# Database credentials\n",
        "postgres_user = 'dsbc_student'\n",
        "postgres_pw = '7*.8G9QH21'\n",
        "postgres_host = '142.93.121.174'\n",
        "postgres_port = '5432'\n",
        "postgres_db = 'dvdrentals'\n",
        "\n",
        "# use the credentials to start a connection\n",
        "engine = create_engine('postgresql://{}:{}@{}:{}/{}'.format(\n",
        "    postgres_user, postgres_pw, postgres_host, postgres_port, postgres_db))\n",
        "\n",
        "sql = 'SELECT length FROM film'\n",
        "\n",
        "running_time = engine.execute(sql)\n",
        "\n",
        "engine.dispose()\n",
        "\n",
        "running_time_list = [row['length'] for row in rows]\n"
      ],
      "execution_count": 0,
      "outputs": []
    },
    {
      "cell_type": "code",
      "metadata": {
        "id": "yO_WkyKvju3V",
        "colab_type": "code",
        "colab": {}
      },
      "source": [
        ""
      ],
      "execution_count": 0,
      "outputs": []
    }
  ]
}