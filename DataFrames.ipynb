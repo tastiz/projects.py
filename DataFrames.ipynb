{
  "nbformat": 4,
  "nbformat_minor": 0,
  "metadata": {
    "colab": {
      "name": "DataFrames.ipynb",
      "provenance": [],
      "authorship_tag": "ABX9TyM1SUF0mBkdWY43DdcRXpuF",
      "include_colab_link": true
    },
    "kernelspec": {
      "name": "python3",
      "display_name": "Python 3"
    }
  },
  "cells": [
    {
      "cell_type": "markdown",
      "metadata": {
        "id": "view-in-github",
        "colab_type": "text"
      },
      "source": [
        "<a href=\"https://colab.research.google.com/github/tastiz/projects.py/blob/master/DataFrames.ipynb\" target=\"_parent\"><img src=\"https://colab.research.google.com/assets/colab-badge.svg\" alt=\"Open In Colab\"/></a>"
      ]
    },
    {
      "cell_type": "code",
      "metadata": {
        "id": "7VcinBkIO6Ye",
        "colab_type": "code",
        "colab": {
          "base_uri": "https://localhost:8080/",
          "height": 68
        },
        "outputId": "58b5fc29-b2a7-4e2e-cd44-0cfeb3204e04"
      },
      "source": [
        "# Import the SQL ALchemy engine\n",
        "from sqlalchemy import create_engine\n",
        "\n",
        "# Database credentials\n",
        "postgres_user = 'dabc_student'\n",
        "postgres_pw = '7*.8G9QH21'\n",
        "postgres_host = '142.93.121.174'\n",
        "postgres_port = '5432'\n",
        "postgres_db = 'baseball'\n",
        "\n",
        "# use the credentials to start a connection\n",
        "engine = create_engine('postgresql://{}:{}@{}:{}/{}'.format(\n",
        "    postgres_user, postgres_pw, postgres_host, postgres_port, postgres_db))\n",
        "\n",
        "import pandas as pd\n",
        "\n",
        "sql = 'SELECT p.playerid, birthyear, birthcountry, deathyear, namefirst, namelast, weight, height, bats, throws, yearid, teamid, lgid, salary FROM people p join salaries s on p.playerid = s.playerid'\n",
        "\n",
        "players_df = pd.read_sql_query(sql, con=engine)\n",
        "\n",
        "engine.dispose()\n",
        "\n",
        "players_df.describe()\n",
        "\n",
        "players_df = players_df.assign(bmi = (703 * players_df.weight)/(players_df.height**2))\n",
        "\n",
        "players_df['X'] = 0\n",
        "\n",
        "players_df_changed = players_df.drop(['X'], axis = 1)\n",
        "\n",
        "#print('The columns of the new DataFrame')\n",
        "#print(players_df_changed.columns)\n",
        "\n",
        "#print('The columns of the original DataFrame')\n",
        "#print(players_df.columns)\n",
        "\n",
        "players_df.drop(['X'], axis = 1, inplace=True)\n",
        "#print('The columns of the DataFrame after deleting inplace')\n",
        "#print(players_df.columns)\n",
        "\n",
        "#select sepecific rows with iloc returning result in multiple rows\n",
        "#players_df.iloc[0]\n",
        "\n",
        "#double brackets returns the result as a list in a single row\n",
        "#players_df.iloc[[0]]\n",
        "\n",
        "players_df.iloc[4:11]\n",
        "\n",
        "#creates boolean values everytime the statement is True\n",
        "over_200 = players_df['weight'] > 200\n",
        "\n",
        "#counts the amount of True and False values the table holds\n",
        "over_200.value_counts()\n"
      ],
      "execution_count": 17,
      "outputs": [
        {
          "output_type": "execute_result",
          "data": {
            "text/plain": [
              "False    15829\n",
              "True     10599\n",
              "Name: weight, dtype: int64"
            ]
          },
          "metadata": {
            "tags": []
          },
          "execution_count": 17
        }
      ]
    }
  ]
}