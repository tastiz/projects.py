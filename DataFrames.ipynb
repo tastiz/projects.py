{
  "nbformat": 4,
  "nbformat_minor": 0,
  "metadata": {
    "colab": {
      "name": "DataFrames.ipynb",
      "provenance": [],
      "authorship_tag": "ABX9TyOeCPOQfz+4VkbssSV1h8S/",
      "include_colab_link": true
    },
    "kernelspec": {
      "name": "python3",
      "display_name": "Python 3"
    }
  },
  "cells": [
    {
      "cell_type": "markdown",
      "metadata": {
        "id": "view-in-github",
        "colab_type": "text"
      },
      "source": [
        "<a href=\"https://colab.research.google.com/github/tastiz/projects.py/blob/master/DataFrames.ipynb\" target=\"_parent\"><img src=\"https://colab.research.google.com/assets/colab-badge.svg\" alt=\"Open In Colab\"/></a>"
      ]
    },
    {
      "cell_type": "code",
      "metadata": {
        "id": "7VcinBkIO6Ye",
        "colab_type": "code",
        "colab": {
          "base_uri": "https://localhost:8080/",
          "height": 80
        },
        "outputId": "ba74c96e-9c88-4331-ed3b-b53554f97b2f"
      },
      "source": [
        "# Import the SQL ALchemy engine\n",
        "from sqlalchemy import create_engine\n",
        "\n",
        "# Database credentials\n",
        "postgres_user = 'dabc_student'\n",
        "postgres_pw = '7*.8G9QH21'\n",
        "postgres_host = '142.93.121.174'\n",
        "postgres_port = '5432'\n",
        "postgres_db = 'baseball'\n",
        "\n",
        "# use the credentials to start a connection\n",
        "engine = create_engine('postgresql://{}:{}@{}:{}/{}'.format(\n",
        "    postgres_user, postgres_pw, postgres_host, postgres_port, postgres_db))\n",
        "\n",
        "import pandas as pd\n",
        "\n",
        "sql = 'SELECT p.playerid, birthyear, birthcountry, deathyear, namefirst, namelast, weight, height, bats, throws, yearid, teamid, lgid, salary FROM people p join salaries s on p.playerid = s.playerid'\n",
        "\n",
        "players_df = pd.read_sql_query(sql, con=engine)\n",
        "\n",
        "engine.dispose()\n",
        "\n",
        "players_df.describe()\n",
        "\n",
        "players_df = players_df.assign(bmi = (703 * players_df.weight)/(players_df.height**2))\n",
        "\n",
        "players_df['X'] = 0\n",
        "\n",
        "players_df_changed = players_df.drop(['X'], axis = 1)\n",
        "\n",
        "#print('The columns of the new DataFrame')\n",
        "#print(players_df_changed.columns)\n",
        "\n",
        "#print('The columns of the original DataFrame')\n",
        "#print(players_df.columns)\n",
        "\n",
        "players_df.drop(['X'], axis = 1, inplace=True)\n",
        "#print('The columns of the DataFrame after deleting inplace')\n",
        "#print(players_df.columns)\n",
        "\n",
        "#select sepecific rows with iloc returning result in multiple rows\n",
        "#players_df.iloc[0]\n",
        "\n",
        "#double brackets returns the result as a list in a single row\n",
        "#players_df.iloc[[0]]\n",
        "\n"
      ],
      "execution_count": 13,
      "outputs": [
        {
          "output_type": "execute_result",
          "data": {
            "text/html": [
              "<div>\n",
              "<style scoped>\n",
              "    .dataframe tbody tr th:only-of-type {\n",
              "        vertical-align: middle;\n",
              "    }\n",
              "\n",
              "    .dataframe tbody tr th {\n",
              "        vertical-align: top;\n",
              "    }\n",
              "\n",
              "    .dataframe thead th {\n",
              "        text-align: right;\n",
              "    }\n",
              "</style>\n",
              "<table border=\"1\" class=\"dataframe\">\n",
              "  <thead>\n",
              "    <tr style=\"text-align: right;\">\n",
              "      <th></th>\n",
              "      <th>playerid</th>\n",
              "      <th>birthyear</th>\n",
              "      <th>birthcountry</th>\n",
              "      <th>deathyear</th>\n",
              "      <th>namefirst</th>\n",
              "      <th>namelast</th>\n",
              "      <th>weight</th>\n",
              "      <th>height</th>\n",
              "      <th>bats</th>\n",
              "      <th>throws</th>\n",
              "      <th>yearid</th>\n",
              "      <th>teamid</th>\n",
              "      <th>lgid</th>\n",
              "      <th>salary</th>\n",
              "      <th>bmi</th>\n",
              "    </tr>\n",
              "  </thead>\n",
              "  <tbody>\n",
              "    <tr>\n",
              "      <th>0</th>\n",
              "      <td>barkele01</td>\n",
              "      <td>1955</td>\n",
              "      <td>USA</td>\n",
              "      <td>NaN</td>\n",
              "      <td>Len</td>\n",
              "      <td>Barker</td>\n",
              "      <td>225</td>\n",
              "      <td>77</td>\n",
              "      <td>R</td>\n",
              "      <td>R</td>\n",
              "      <td>1985</td>\n",
              "      <td>ATL</td>\n",
              "      <td>NL</td>\n",
              "      <td>870000</td>\n",
              "      <td>26.678192</td>\n",
              "    </tr>\n",
              "  </tbody>\n",
              "</table>\n",
              "</div>"
            ],
            "text/plain": [
              "    playerid  birthyear birthcountry  deathyear  ... teamid lgid  salary        bmi\n",
              "0  barkele01       1955          USA        NaN  ...    ATL   NL  870000  26.678192\n",
              "\n",
              "[1 rows x 15 columns]"
            ]
          },
          "metadata": {
            "tags": []
          },
          "execution_count": 13
        }
      ]
    }
  ]
}