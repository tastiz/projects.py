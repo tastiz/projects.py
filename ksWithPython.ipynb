{
  "nbformat": 4,
  "nbformat_minor": 0,
  "metadata": {
    "colab": {
      "name": "ksWithPython.ipynb",
      "provenance": [],
      "authorship_tag": "ABX9TyOAYNiS7LrujfzmyUlcv2Ks",
      "include_colab_link": true
    },
    "kernelspec": {
      "name": "python3",
      "display_name": "Python 3"
    }
  },
  "cells": [
    {
      "cell_type": "markdown",
      "metadata": {
        "id": "view-in-github",
        "colab_type": "text"
      },
      "source": [
        "<a href=\"https://colab.research.google.com/github/tastiz/projects.py/blob/master/ksWithPython.ipynb\" target=\"_parent\"><img src=\"https://colab.research.google.com/assets/colab-badge.svg\" alt=\"Open In Colab\"/></a>"
      ]
    },
    {
      "cell_type": "markdown",
      "metadata": {
        "id": "ukkZ1X8wejKt",
        "colab_type": "text"
      },
      "source": [
        "Using the shape method, the number of rows in this table is 65418"
      ]
    },
    {
      "cell_type": "code",
      "metadata": {
        "id": "h7G0W7YyebSO",
        "colab_type": "code",
        "colab": {}
      },
      "source": [
        "# Import the SQL ALchemy engine\n",
        "from sqlalchemy import create_engine\n",
        "import pandas as pd\n",
        "\n",
        "# Database credentials\n",
        "postgres_user = 'dabc_student'\n",
        "postgres_pw = '7*.8G9QH21'\n",
        "postgres_host = '142.93.121.174'\n",
        "postgres_port = '5432'\n",
        "postgres_db = 'kickstarterprojects'\n",
        "\n",
        "# use the credentials to start a connection\n",
        "engine = create_engine('postgresql://{}:{}@{}:{}/{}'.format(\n",
        "    postgres_user, postgres_pw, postgres_host, postgres_port, postgres_db))\n",
        "\n",
        "ksprojects_df = pd.read_sql_table('ksprojects', con=engine)\n",
        "\n",
        "engine.dispose()\n",
        "\n",
        "ksprojects_df.shape"
      ],
      "execution_count": 0,
      "outputs": []
    },
    {
      "cell_type": "markdown",
      "metadata": {
        "id": "lO8x2x5_evau",
        "colab_type": "text"
      },
      "source": [
        "Returns the names of the columns"
      ]
    },
    {
      "cell_type": "code",
      "metadata": {
        "id": "0QZHLVDtevo-",
        "colab_type": "code",
        "colab": {}
      },
      "source": [
        "# Import the SQL ALchemy engine\n",
        "from sqlalchemy import create_engine\n",
        "\n",
        "# Database credentials\n",
        "postgres_user = 'dabc_student'\n",
        "postgres_pw = '7*.8G9QH21'\n",
        "postgres_host = '142.93.121.174'\n",
        "postgres_port = '5432'\n",
        "postgres_db = 'kickstarterprojects'\n",
        "\n",
        "# use the credentials to start a connection\n",
        "engine = create_engine('postgresql://{}:{}@{}:{}/{}'.format(\n",
        "    postgres_user, postgres_pw, postgres_host, postgres_port, postgres_db))\n",
        "\n",
        "ksprojects_df = pd.read_sql_table('ksprojects', con=engine)\n",
        "\n",
        "engine.dispose()\n",
        "\n",
        "ksprojects_df.columns"
      ],
      "execution_count": 0,
      "outputs": []
    },
    {
      "cell_type": "markdown",
      "metadata": {
        "id": "xxa5tAPge2PN",
        "colab_type": "text"
      },
      "source": [
        "Returns a count of the numnber of null values per column."
      ]
    },
    {
      "cell_type": "code",
      "metadata": {
        "id": "74eTikaue2g3",
        "colab_type": "code",
        "colab": {}
      },
      "source": [
        "# Import the SQL ALchemy engine\n",
        "from sqlalchemy import create_engine\n",
        "\n",
        "# Database credentials\n",
        "postgres_user = 'dabc_student'\n",
        "postgres_pw = '7*.8G9QH21'\n",
        "postgres_host = '142.93.121.174'\n",
        "postgres_port = '5432'\n",
        "postgres_db = 'kickstarterprojects'\n",
        "\n",
        "# use the credentials to start a connection\n",
        "engine = create_engine('postgresql://{}:{}@{}:{}/{}'.format(\n",
        "    postgres_user, postgres_pw, postgres_host, postgres_port, postgres_db))\n",
        "\n",
        "ksprojects_df = pd.read_sql_table('ksprojects', con=engine)\n",
        "\n",
        "engine.dispose()\n",
        "\n",
        "ksprojects_df.isnull().sum()"
      ],
      "execution_count": 0,
      "outputs": []
    },
    {
      "cell_type": "markdown",
      "metadata": {
        "id": "kUvcudj7fMOQ",
        "colab_type": "text"
      },
      "source": [
        "Returns the top 10 pledge amounts for the Documentary Category"
      ]
    },
    {
      "cell_type": "code",
      "metadata": {
        "id": "DUfrE7pkfMbL",
        "colab_type": "code",
        "colab": {}
      },
      "source": [
        "# Import the SQL ALchemy engine\n",
        "from sqlalchemy import create_engine\n",
        "\n",
        "# Database credentials\n",
        "postgres_user = 'dabc_student'\n",
        "postgres_pw = '7*.8G9QH21'\n",
        "postgres_host = '142.93.121.174'\n",
        "postgres_port = '5432'\n",
        "postgres_db = 'kickstarterprojects'\n",
        "\n",
        "# use the credentials to start a connection\n",
        "engine = create_engine('postgresql://{}:{}@{}:{}/{}'.format(\n",
        "    postgres_user, postgres_pw, postgres_host, postgres_port, postgres_db))\n",
        "\n",
        "ksprojects_df = pd.read_sql_table('ksprojects', con=engine)\n",
        "\n",
        "engine.dispose()\n",
        "\n",
        "\n",
        "\n",
        "bools = (ksprojects_df['state'] == 'successful') & (ksprojects_df['category'] == 'Documentary')\n",
        "documentary_df = ksprojects_df.iloc[bools.values]\n",
        "documentary_df.nlargest(10, columns='pledged')"
      ],
      "execution_count": 0,
      "outputs": []
    },
    {
      "cell_type": "markdown",
      "metadata": {
        "id": "-EazwukjfWbV",
        "colab_type": "text"
      },
      "source": [
        "Creates the new column average pledge per backer "
      ]
    },
    {
      "cell_type": "code",
      "metadata": {
        "id": "MbReiFbAfWpi",
        "colab_type": "code",
        "colab": {}
      },
      "source": [
        "# Import the SQL ALchemy engine\n",
        "from sqlalchemy import create_engine\n",
        "\n",
        "# Database credentials\n",
        "postgres_user = 'dabc_student'\n",
        "postgres_pw = '7*.8G9QH21'\n",
        "postgres_host = '142.93.121.174'\n",
        "postgres_port = '5432'\n",
        "postgres_db = 'kickstarterprojects'\n",
        "\n",
        "# use the credentials to start a connection\n",
        "engine = create_engine('postgresql://{}:{}@{}:{}/{}'.format(\n",
        "    postgres_user, postgres_pw, postgres_host, postgres_port, postgres_db))\n",
        "\n",
        "ksprojects_df = pd.read_sql_table('ksprojects', con=engine)\n",
        "\n",
        "engine.dispose()\n",
        "\n",
        "ksprojects_df = ksprojects_df.assign(average_per_backer = (ksprojects_df.pledged/ksprojects_df.backers))\n",
        "ksprojects_df"
      ],
      "execution_count": 0,
      "outputs": []
    },
    {
      "cell_type": "markdown",
      "metadata": {
        "id": "ayvXkaMMhBc7",
        "colab_type": "text"
      },
      "source": [
        "Creates a boolean test to eliminate all rows with 0 backers"
      ]
    },
    {
      "cell_type": "code",
      "metadata": {
        "id": "neqf5xk_hBlX",
        "colab_type": "code",
        "colab": {}
      },
      "source": [
        "# Import the SQL ALchemy engine\n",
        "from sqlalchemy import create_engine\n",
        "\n",
        "# Database credentials\n",
        "postgres_user = 'dabc_student'\n",
        "postgres_pw = '7*.8G9QH21'\n",
        "postgres_host = '142.93.121.174'\n",
        "postgres_port = '5432'\n",
        "postgres_db = 'kickstarterprojects'\n",
        "\n",
        "# use the credentials to start a connection\n",
        "engine = create_engine('postgresql://{}:{}@{}:{}/{}'.format(\n",
        "    postgres_user, postgres_pw, postgres_host, postgres_port, postgres_db))\n",
        "\n",
        "ksprojects_df = pd.read_sql_table('ksprojects', con=engine)\n",
        "\n",
        "engine.dispose()\n",
        "\n",
        "ksprojects_df = ksprojects_df.assign(average_per_backer = (ksprojects_df.pledged/ksprojects_df.backers))\n",
        "ksprojects_df\n",
        "\n",
        "backed = ksprojects_df['backers'] > 0 \n",
        "ksprojects_df.iloc[backed.values]"
      ],
      "execution_count": 0,
      "outputs": []
    },
    {
      "cell_type": "markdown",
      "metadata": {
        "id": "ZMt728zchv9q",
        "colab_type": "text"
      },
      "source": [
        "Returns a crosstab table with the category as the rows with state of funding as the columns"
      ]
    },
    {
      "cell_type": "code",
      "metadata": {
        "id": "6VPiGLJwhwHe",
        "colab_type": "code",
        "colab": {}
      },
      "source": [
        "# Import the SQL ALchemy engine\n",
        "from sqlalchemy import create_engine\n",
        "import pandas as pd\n",
        "\n",
        "\n",
        "# Database credentials\n",
        "postgres_user = 'dabc_student'\n",
        "postgres_pw = '7*.8G9QH21'\n",
        "postgres_host = '142.93.121.174'\n",
        "postgres_port = '5432'\n",
        "postgres_db = 'kickstarterprojects'\n",
        "\n",
        "# use the credentials to start a connection\n",
        "engine = create_engine('postgresql://{}:{}@{}:{}/{}'.format(\n",
        "    postgres_user, postgres_pw, postgres_host, postgres_port, postgres_db))\n",
        "\n",
        "ksprojects_df = pd.read_sql_table('ksprojects', con=engine)\n",
        "\n",
        "engine.dispose()\n",
        "\n",
        "pd.crosstab(ksprojects_df['category'], ksprojects_df['state'])"
      ],
      "execution_count": 0,
      "outputs": []
    }
  ]
}