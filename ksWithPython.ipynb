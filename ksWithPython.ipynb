{
  "nbformat": 4,
  "nbformat_minor": 0,
  "metadata": {
    "colab": {
      "name": "ksWithPython.ipynb",
      "provenance": [],
      "authorship_tag": "ABX9TyNurp6JUvOBWRgGGtm2Qu5q",
      "include_colab_link": true
    },
    "kernelspec": {
      "name": "python3",
      "display_name": "Python 3"
    }
  },
  "cells": [
    {
      "cell_type": "markdown",
      "metadata": {
        "id": "view-in-github",
        "colab_type": "text"
      },
      "source": [
        "<a href=\"https://colab.research.google.com/github/tastiz/projects.py/blob/master/ksWithPython.ipynb\" target=\"_parent\"><img src=\"https://colab.research.google.com/assets/colab-badge.svg\" alt=\"Open In Colab\"/></a>"
      ]
    },
    {
      "cell_type": "markdown",
      "metadata": {
        "id": "ukkZ1X8wejKt",
        "colab_type": "text"
      },
      "source": [
        "Using the shape method, the number of rows in this table is 65418"
      ]
    },
    {
      "cell_type": "code",
      "metadata": {
        "id": "h7G0W7YyebSO",
        "colab_type": "code",
        "colab": {
          "base_uri": "https://localhost:8080/",
          "height": 34
        },
        "outputId": "82c3d9d5-061e-425a-cba6-f204b27263f5"
      },
      "source": [
        "# Import the SQL ALchemy engine\n",
        "from sqlalchemy import create_engine\n",
        "import pandas as pd\n",
        "\n",
        "# Database credentials\n",
        "postgres_user = 'dabc_student'\n",
        "postgres_pw = '7*.8G9QH21'\n",
        "postgres_host = '142.93.121.174'\n",
        "postgres_port = '5432'\n",
        "postgres_db = 'kickstarterprojects'\n",
        "\n",
        "# use the credentials to start a connection\n",
        "engine = create_engine('postgresql://{}:{}@{}:{}/{}'.format(\n",
        "    postgres_user, postgres_pw, postgres_host, postgres_port, postgres_db))\n",
        "\n",
        "ksprojects_df = pd.read_sql_table('ksprojects', con=engine)\n",
        "\n",
        "engine.dispose()\n",
        "\n",
        "ksprojects_df.shape"
      ],
      "execution_count": 2,
      "outputs": [
        {
          "output_type": "execute_result",
          "data": {
            "text/plain": [
              "(65418, 13)"
            ]
          },
          "metadata": {
            "tags": []
          },
          "execution_count": 2
        }
      ]
    },
    {
      "cell_type": "markdown",
      "metadata": {
        "id": "lO8x2x5_evau",
        "colab_type": "text"
      },
      "source": [
        "Returns the names of the columns"
      ]
    },
    {
      "cell_type": "code",
      "metadata": {
        "id": "0QZHLVDtevo-",
        "colab_type": "code",
        "colab": {
          "base_uri": "https://localhost:8080/",
          "height": 85
        },
        "outputId": "dbfceb73-9bf1-4c62-c025-2f794104ba09"
      },
      "source": [
        "# Import the SQL ALchemy engine\n",
        "from sqlalchemy import create_engine\n",
        "\n",
        "# Database credentials\n",
        "postgres_user = 'dabc_student'\n",
        "postgres_pw = '7*.8G9QH21'\n",
        "postgres_host = '142.93.121.174'\n",
        "postgres_port = '5432'\n",
        "postgres_db = 'kickstarterprojects'\n",
        "\n",
        "# use the credentials to start a connection\n",
        "engine = create_engine('postgresql://{}:{}@{}:{}/{}'.format(\n",
        "    postgres_user, postgres_pw, postgres_host, postgres_port, postgres_db))\n",
        "\n",
        "ksprojects_df = pd.read_sql_table('ksprojects', con=engine)\n",
        "\n",
        "engine.dispose()\n",
        "\n",
        "ksprojects_df.columns"
      ],
      "execution_count": 3,
      "outputs": [
        {
          "output_type": "execute_result",
          "data": {
            "text/plain": [
              "Index(['id', 'name', 'category', 'main_category', 'deadline', 'goal',\n",
              "       'launched', 'state', 'backers', 'country', 'usd_pledged', 'currency',\n",
              "       'pledged'],\n",
              "      dtype='object')"
            ]
          },
          "metadata": {
            "tags": []
          },
          "execution_count": 3
        }
      ]
    },
    {
      "cell_type": "markdown",
      "metadata": {
        "id": "xxa5tAPge2PN",
        "colab_type": "text"
      },
      "source": [
        "Returns all the non-null values for each column.  Shows that every row column is completly filled"
      ]
    },
    {
      "cell_type": "code",
      "metadata": {
        "id": "74eTikaue2g3",
        "colab_type": "code",
        "colab": {}
      },
      "source": [
        "# Import the SQL ALchemy engine\n",
        "from sqlalchemy import create_engine\n",
        "\n",
        "# Database credentials\n",
        "postgres_user = 'dabc_student'\n",
        "postgres_pw = '7*.8G9QH21'\n",
        "postgres_host = '142.93.121.174'\n",
        "postgres_port = '5432'\n",
        "postgres_db = 'kickstarterprojects'\n",
        "\n",
        "# use the credentials to start a connection\n",
        "engine = create_engine('postgresql://{}:{}@{}:{}/{}'.format(\n",
        "    postgres_user, postgres_pw, postgres_host, postgres_port, postgres_db))\n",
        "\n",
        "ksprojects_df = pd.read_sql_table('ksprojects', con=engine)\n",
        "\n",
        "engine.dispose()\n",
        "\n",
        "ksprojects_df.info(null_counts=True)"
      ],
      "execution_count": 0,
      "outputs": []
    },
    {
      "cell_type": "markdown",
      "metadata": {
        "id": "kUvcudj7fMOQ",
        "colab_type": "text"
      },
      "source": [
        "Returns the top 10 pledge amounts for the Documentary Category"
      ]
    },
    {
      "cell_type": "code",
      "metadata": {
        "id": "DUfrE7pkfMbL",
        "colab_type": "code",
        "colab": {}
      },
      "source": [
        "# Import the SQL ALchemy engine\n",
        "from sqlalchemy import create_engine\n",
        "\n",
        "# Database credentials\n",
        "postgres_user = 'dabc_student'\n",
        "postgres_pw = '7*.8G9QH21'\n",
        "postgres_host = '142.93.121.174'\n",
        "postgres_port = '5432'\n",
        "postgres_db = 'kickstarterprojects'\n",
        "\n",
        "# use the credentials to start a connection\n",
        "engine = create_engine('postgresql://{}:{}@{}:{}/{}'.format(\n",
        "    postgres_user, postgres_pw, postgres_host, postgres_port, postgres_db))\n",
        "\n",
        "ksprojects_df = pd.read_sql_table('ksprojects', con=engine)\n",
        "\n",
        "engine.dispose()\n",
        "\n",
        "\n",
        "bools = (ksprojects_df['category'] == 'Documentary') \n",
        "documentary_df = ksprojects_df.iloc[bools.values]\n",
        "documentary_df.nlargest(10, columns='pledged')"
      ],
      "execution_count": 0,
      "outputs": []
    },
    {
      "cell_type": "markdown",
      "metadata": {
        "id": "-EazwukjfWbV",
        "colab_type": "text"
      },
      "source": [
        "Creates the new column average pledge per backer "
      ]
    },
    {
      "cell_type": "code",
      "metadata": {
        "id": "MbReiFbAfWpi",
        "colab_type": "code",
        "colab": {}
      },
      "source": [
        "# Import the SQL ALchemy engine\n",
        "from sqlalchemy import create_engine\n",
        "\n",
        "# Database credentials\n",
        "postgres_user = 'dabc_student'\n",
        "postgres_pw = '7*.8G9QH21'\n",
        "postgres_host = '142.93.121.174'\n",
        "postgres_port = '5432'\n",
        "postgres_db = 'kickstarterprojects'\n",
        "\n",
        "# use the credentials to start a connection\n",
        "engine = create_engine('postgresql://{}:{}@{}:{}/{}'.format(\n",
        "    postgres_user, postgres_pw, postgres_host, postgres_port, postgres_db))\n",
        "\n",
        "ksprojects_df = pd.read_sql_table('ksprojects', con=engine)\n",
        "\n",
        "engine.dispose()\n",
        "\n",
        "ksprojects_df = ksprojects_df.assign(average_per_backer = (ksprojects_df.pledged/ksprojects_df.backers))\n",
        "ksprojects_df\n",
        "\n",
        "\n",
        "\n",
        "\n"
      ],
      "execution_count": 0,
      "outputs": []
    },
    {
      "cell_type": "markdown",
      "metadata": {
        "id": "ayvXkaMMhBc7",
        "colab_type": "text"
      },
      "source": [
        "Creates a boolean test to eliminate all rows with 0 backers"
      ]
    },
    {
      "cell_type": "code",
      "metadata": {
        "id": "neqf5xk_hBlX",
        "colab_type": "code",
        "colab": {}
      },
      "source": [
        "# Import the SQL ALchemy engine\n",
        "from sqlalchemy import create_engine\n",
        "\n",
        "# Database credentials\n",
        "postgres_user = 'dabc_student'\n",
        "postgres_pw = '7*.8G9QH21'\n",
        "postgres_host = '142.93.121.174'\n",
        "postgres_port = '5432'\n",
        "postgres_db = 'kickstarterprojects'\n",
        "\n",
        "# use the credentials to start a connection\n",
        "engine = create_engine('postgresql://{}:{}@{}:{}/{}'.format(\n",
        "    postgres_user, postgres_pw, postgres_host, postgres_port, postgres_db))\n",
        "\n",
        "ksprojects_df = pd.read_sql_table('ksprojects', con=engine)\n",
        "\n",
        "engine.dispose()\n",
        "\n",
        "ksprojects_df = ksprojects_df.assign(average_per_backer = (ksprojects_df.pledged/ksprojects_df.backers))\n",
        "ksprojects_df\n",
        "\n",
        "backed = ksprojects_df['backers'] > 0 \n",
        "ksprojects_df.iloc[backed.values]"
      ],
      "execution_count": 0,
      "outputs": []
    },
    {
      "cell_type": "markdown",
      "metadata": {
        "id": "ZMt728zchv9q",
        "colab_type": "text"
      },
      "source": [
        "Returns a crosstab table with the category as the rows with state of funding as the columns"
      ]
    },
    {
      "cell_type": "code",
      "metadata": {
        "id": "6VPiGLJwhwHe",
        "colab_type": "code",
        "colab": {
          "base_uri": "https://localhost:8080/",
          "height": 450
        },
        "outputId": "76c82566-c465-44fb-acc3-ff85056b4a0a"
      },
      "source": [
        "# Import the SQL ALchemy engine\n",
        "from sqlalchemy import create_engine\n",
        "import pandas as pd\n",
        "\n",
        "\n",
        "# Database credentials\n",
        "postgres_user = 'dabc_student'\n",
        "postgres_pw = '7*.8G9QH21'\n",
        "postgres_host = '142.93.121.174'\n",
        "postgres_port = '5432'\n",
        "postgres_db = 'kickstarterprojects'\n",
        "\n",
        "# use the credentials to start a connection\n",
        "engine = create_engine('postgresql://{}:{}@{}:{}/{}'.format(\n",
        "    postgres_user, postgres_pw, postgres_host, postgres_port, postgres_db))\n",
        "\n",
        "ksprojects_df = pd.read_sql_table('ksprojects', con=engine)\n",
        "\n",
        "engine.dispose()\n",
        "\n",
        "pd.crosstab(ksprojects_df['category'], ksprojects_df['state'])"
      ],
      "execution_count": 25,
      "outputs": [
        {
          "output_type": "execute_result",
          "data": {
            "text/html": [
              "<div>\n",
              "<style scoped>\n",
              "    .dataframe tbody tr th:only-of-type {\n",
              "        vertical-align: middle;\n",
              "    }\n",
              "\n",
              "    .dataframe tbody tr th {\n",
              "        vertical-align: top;\n",
              "    }\n",
              "\n",
              "    .dataframe thead th {\n",
              "        text-align: right;\n",
              "    }\n",
              "</style>\n",
              "<table border=\"1\" class=\"dataframe\">\n",
              "  <thead>\n",
              "    <tr style=\"text-align: right;\">\n",
              "      <th>state</th>\n",
              "      <th>canceled</th>\n",
              "      <th>failed</th>\n",
              "      <th>live</th>\n",
              "      <th>successful</th>\n",
              "      <th>suspended</th>\n",
              "      <th>undefined</th>\n",
              "    </tr>\n",
              "    <tr>\n",
              "      <th>category</th>\n",
              "      <th></th>\n",
              "      <th></th>\n",
              "      <th></th>\n",
              "      <th></th>\n",
              "      <th></th>\n",
              "      <th></th>\n",
              "    </tr>\n",
              "  </thead>\n",
              "  <tbody>\n",
              "    <tr>\n",
              "      <th>3D Printing</th>\n",
              "      <td>17</td>\n",
              "      <td>59</td>\n",
              "      <td>3</td>\n",
              "      <td>43</td>\n",
              "      <td>2</td>\n",
              "      <td>1</td>\n",
              "    </tr>\n",
              "    <tr>\n",
              "      <th>Academic</th>\n",
              "      <td>21</td>\n",
              "      <td>86</td>\n",
              "      <td>3</td>\n",
              "      <td>43</td>\n",
              "      <td>4</td>\n",
              "      <td>0</td>\n",
              "    </tr>\n",
              "    <tr>\n",
              "      <th>Accessories</th>\n",
              "      <td>48</td>\n",
              "      <td>238</td>\n",
              "      <td>16</td>\n",
              "      <td>121</td>\n",
              "      <td>2</td>\n",
              "      <td>1</td>\n",
              "    </tr>\n",
              "    <tr>\n",
              "      <th>Action</th>\n",
              "      <td>14</td>\n",
              "      <td>79</td>\n",
              "      <td>1</td>\n",
              "      <td>16</td>\n",
              "      <td>0</td>\n",
              "      <td>0</td>\n",
              "    </tr>\n",
              "    <tr>\n",
              "      <th>Animals</th>\n",
              "      <td>2</td>\n",
              "      <td>31</td>\n",
              "      <td>0</td>\n",
              "      <td>11</td>\n",
              "      <td>1</td>\n",
              "      <td>0</td>\n",
              "    </tr>\n",
              "    <tr>\n",
              "      <th>...</th>\n",
              "      <td>...</td>\n",
              "      <td>...</td>\n",
              "      <td>...</td>\n",
              "      <td>...</td>\n",
              "      <td>...</td>\n",
              "      <td>...</td>\n",
              "    </tr>\n",
              "    <tr>\n",
              "      <th>Woodworking</th>\n",
              "      <td>10</td>\n",
              "      <td>125</td>\n",
              "      <td>4</td>\n",
              "      <td>38</td>\n",
              "      <td>2</td>\n",
              "      <td>0</td>\n",
              "    </tr>\n",
              "    <tr>\n",
              "      <th>Workshops</th>\n",
              "      <td>0</td>\n",
              "      <td>12</td>\n",
              "      <td>1</td>\n",
              "      <td>8</td>\n",
              "      <td>1</td>\n",
              "      <td>0</td>\n",
              "    </tr>\n",
              "    <tr>\n",
              "      <th>World Music</th>\n",
              "      <td>31</td>\n",
              "      <td>174</td>\n",
              "      <td>2</td>\n",
              "      <td>168</td>\n",
              "      <td>1</td>\n",
              "      <td>0</td>\n",
              "    </tr>\n",
              "    <tr>\n",
              "      <th>Young Adult</th>\n",
              "      <td>16</td>\n",
              "      <td>78</td>\n",
              "      <td>1</td>\n",
              "      <td>23</td>\n",
              "      <td>0</td>\n",
              "      <td>0</td>\n",
              "    </tr>\n",
              "    <tr>\n",
              "      <th>Zines</th>\n",
              "      <td>6</td>\n",
              "      <td>26</td>\n",
              "      <td>1</td>\n",
              "      <td>17</td>\n",
              "      <td>0</td>\n",
              "      <td>0</td>\n",
              "    </tr>\n",
              "  </tbody>\n",
              "</table>\n",
              "<p>158 rows × 6 columns</p>\n",
              "</div>"
            ],
            "text/plain": [
              "state        canceled  failed  live  successful  suspended  undefined\n",
              "category                                                             \n",
              "3D Printing        17      59     3          43          2          1\n",
              "Academic           21      86     3          43          4          0\n",
              "Accessories        48     238    16         121          2          1\n",
              "Action             14      79     1          16          0          0\n",
              "Animals             2      31     0          11          1          0\n",
              "...               ...     ...   ...         ...        ...        ...\n",
              "Woodworking        10     125     4          38          2          0\n",
              "Workshops           0      12     1           8          1          0\n",
              "World Music        31     174     2         168          1          0\n",
              "Young Adult        16      78     1          23          0          0\n",
              "Zines               6      26     1          17          0          0\n",
              "\n",
              "[158 rows x 6 columns]"
            ]
          },
          "metadata": {
            "tags": []
          },
          "execution_count": 25
        }
      ]
    }
  ]
}