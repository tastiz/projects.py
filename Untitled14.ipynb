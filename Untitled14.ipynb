{
  "nbformat": 4,
  "nbformat_minor": 0,
  "metadata": {
    "colab": {
      "name": "Untitled14.ipynb",
      "provenance": [],
      "authorship_tag": "ABX9TyPD/8+i3Ae9G9KHujnJKFF6",
      "include_colab_link": true
    },
    "kernelspec": {
      "name": "python3",
      "display_name": "Python 3"
    }
  },
  "cells": [
    {
      "cell_type": "markdown",
      "metadata": {
        "id": "view-in-github",
        "colab_type": "text"
      },
      "source": [
        "<a href=\"https://colab.research.google.com/github/tastiz/projects.py/blob/master/Untitled14.ipynb\" target=\"_parent\"><img src=\"https://colab.research.google.com/assets/colab-badge.svg\" alt=\"Open In Colab\"/></a>"
      ]
    },
    {
      "cell_type": "code",
      "metadata": {
        "id": "CQ-HAy-ijHmc",
        "colab_type": "code",
        "colab": {
          "base_uri": "https://localhost:8080/",
          "height": 442
        },
        "outputId": "7e38d8d5-56fd-4975-cebe-776b876e74d4"
      },
      "source": [
        "# To keep the page organized do all imports here\n",
        "from sqlalchemy import create_engine\n",
        "import pandas as pd\n",
        "from scipy import stats\n",
        "\n",
        "# Database credentials\n",
        "postgres_user = 'dabc_student'\n",
        "postgres_pw = '7*.8G9QH21'\n",
        "postgres_host = '142.93.121.174'\n",
        "postgres_port = '5432'\n",
        "postgres_db = 'kickstarterprojects'\n",
        "\n",
        "# use the credentials to start a connection\n",
        "engine = create_engine('postgresql://{}:{}@{}:{}/{}'.format(\n",
        "    postgres_user, postgres_pw, postgres_host, postgres_port, postgres_db))\n",
        "\n",
        "projects_df = pd.read_sql_table('ksprojects', con=engine)\n",
        "\n",
        "# remove the connection\n",
        "engine.dispose()\n",
        "\n",
        "#counts the unique values for a given column\n",
        "projects_df['category'].nunique()\n",
        "\n",
        "category_counts = projects_df['category'].value_counts()\n",
        "\n",
        "main_category_counts = projects_df['main_category'].value_counts()\n",
        "\n",
        "country_counts = projects_df['country'].value_counts()\n",
        "\n",
        "currency_counts = projects_df['currency'].value_counts()\n",
        "\n",
        "state_counts = projects_df['state'].value_counts()\n",
        "\n",
        "null_rows = projects_df[projects_df.isnull().any(axis=1)]\n",
        "\n",
        "#replace all null values with a specific value\n",
        "\n",
        "zero_filled = null_rows.fillna(0)\n",
        "\n",
        "#original size of the first data set\n",
        "#print(projects_df.size)\n",
        "\n",
        "#dropping the NaN rows\n",
        "clean_projects = projects_df.dropna()\n",
        "\n",
        "#print(clean_projects.size)\n",
        "\n",
        "def series_statistics(column):\n",
        "  print('statistics for column: {}'.format(column.name))\n",
        "  print('The max value in the column: {}'.format(column.max()))\n",
        "  print('The min value in the column: {}'.format(column.min()))\n",
        "  print('The mode value in the column: {}'.format(column.mode()))\n",
        "  print('The median value in the column: {}'.format(column.median()))\n",
        "  print('The mean of the column: {}'.format(column.mean()))\n",
        "  print('The std of the column: {}'.format(column.std()))\n",
        "\n",
        "series_statistics(clean_projects['goal'])\n",
        "\n",
        "series_statistics(clean_projects['usd_pledged'])\n",
        "\n",
        "clean_projects['goal'].describe()"
      ],
      "execution_count": 15,
      "outputs": [
        {
          "output_type": "stream",
          "text": [
            "statistics for column: goal\n",
            "The max value in the column: 100000000.0\n",
            "The min value in the column: 1.0\n",
            "The mode value in the column: 0    5000.0\n",
            "dtype: float64\n",
            "The median value in the column: 5000.0\n",
            "The mean of the column: 42094.83745674393\n",
            "The std of the column: 1033205.2738987174\n",
            "statistics for column: usd_pledged\n",
            "The max value in the column: 8596480.0\n",
            "The min value in the column: 0.0\n",
            "The mode value in the column: 0    0.0\n",
            "dtype: float64\n",
            "The median value in the column: 542.0\n",
            "The mean of the column: 7900.242114883215\n",
            "The std of the column: 72783.34386006395\n"
          ],
          "name": "stdout"
        },
        {
          "output_type": "execute_result",
          "data": {
            "text/plain": [
              "count    6.467300e+04\n",
              "mean     4.209484e+04\n",
              "std      1.033205e+06\n",
              "min      1.000000e+00\n",
              "25%      2.000000e+03\n",
              "50%      5.000000e+03\n",
              "75%      1.500000e+04\n",
              "max      1.000000e+08\n",
              "Name: goal, dtype: float64"
            ]
          },
          "metadata": {
            "tags": []
          },
          "execution_count": 15
        }
      ]
    }
  ]
}