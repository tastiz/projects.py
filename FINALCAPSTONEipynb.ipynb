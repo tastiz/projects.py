{
  "nbformat": 4,
  "nbformat_minor": 0,
  "metadata": {
    "colab": {
      "name": "FINALCAPSTONEipynb",
      "provenance": [],
      "authorship_tag": "ABX9TyOgDHi2ytk/Take2EX9GU6E",
      "include_colab_link": true
    },
    "kernelspec": {
      "name": "python3",
      "display_name": "Python 3"
    }
  },
  "cells": [
    {
      "cell_type": "markdown",
      "metadata": {
        "id": "view-in-github",
        "colab_type": "text"
      },
      "source": [
        "<a href=\"https://colab.research.google.com/github/tastiz/projects.py/blob/master/FINALCAPSTONEipynb.ipynb\" target=\"_parent\"><img src=\"https://colab.research.google.com/assets/colab-badge.svg\" alt=\"Open In Colab\"/></a>"
      ]
    },
    {
      "cell_type": "markdown",
      "metadata": {
        "id": "fdklamJAc3Wc",
        "colab_type": "text"
      },
      "source": [
        "\n",
        "\n",
        "> I am interested in using data sets from the CDC website to evaluate and create an informative presentation on the effectiveness of strategies to prevent tobacco and nicotine consumption in youth.  This topic is very popular in the media with the common discussion of how to limit access to youth while additionally considering what even an adult should be allowed to ingest. One particular dataset I initially found tracked state e-cigarette legislation that had two main types: Restrictions and Requirements.  While exploring other legislation related data sets other forms like punishable laws were additionally used as means to minimize youth nicotine consumption.\n",
        "\n",
        "> As a marketing firm working for a Lobbyist client, the client wishes to identify which states need the most focus on the platform of creating a nicotine free country.  When considering, for instance, to focus on requirement, restriction, or punishable legislation, it would be helpful to know which is occurring in what states and to what degree its effectiveness on minimizing nicotine consumption.  Requirements are specific to functional components of system in place while restrictions refer to the non-functional aspects such as technology and how one uses a product such as nicotine.\n",
        "\n",
        "> I believe requirement legislation is the most effective and best use of time to pursue due to the specificity of creating laws on known components of a given system such as the tobacco industry.  Restriction legislation I believe is unable to keep up with technology changes while punishable and enforcement legislation only punishes after the fact and is not preventive.  \n",
        "\n",
        "\n",
        "\n",
        "  \n",
        "\n",
        "> For this project, I will be tracking legislation trends over the years directed to youth nicotine prevention to discover correlations between types of legalization and the overall effectiveness measured by youth nicotine use. \n",
        "\n",
        "> In general, this presentation should be informative of nationwide trends of present nicotine use in youths that can be easily digestible to reach the largest audience.   \n",
        "\n",
        "\n"
      ]
    },
    {
      "cell_type": "code",
      "metadata": {
        "id": "2o0LGBvlL2tB",
        "colab_type": "code",
        "colab": {}
      },
      "source": [
        "# Import libaries and readies access in our GDrive-mounted csv files\n",
        "from google.colab import drive\n",
        "from scipy import stats\n",
        "import pandas as pd\n",
        "import seaborn as sns \n",
        "\n",
        "drive.mount('/content/gdrive')"
      ],
      "execution_count": 0,
      "outputs": []
    },
    {
      "cell_type": "markdown",
      "metadata": {
        "id": "_njr8KQRY_t_",
        "colab_type": "text"
      },
      "source": [
        "Establishes the data sets to be evaluated\n"
      ]
    },
    {
      "cell_type": "code",
      "metadata": {
        "id": "ZDJgH1jnOtrH",
        "colab_type": "code",
        "colab": {}
      },
      "source": [
        "#cdc.org\n",
        "#count the amount of legislative laws per year 1995 -2011\n",
        "legislation_df = pd.read_csv('/content/gdrive/My Drive/CDC_STATE_System_E-Cigarette_Legislation_-_Youth_Access.csv')\n",
        "#count the number of licensures per year\n",
        "licensure_df = pd.read_csv('/content/gdrive/My Drive/CDC/CDC_STATE_System_E-Cigarette_Legislation_-_Licensure.csv')\n",
        "#Sepearte percents of use by TopicDesc and group by year\n",
        "behavioralRisk_df = pd.read_csv('/content/gdrive/My Drive/CDC/Behavioral_Risk_Factor_Data__Tobacco_Use__2011_to_present_.csv', low_memory=False)\n",
        "#goal to count the number of laws made per year\n",
        "tax_df = pd.read_csv('/content/gdrive/My Drive/CDC/CDC_STATE_System_E-Cigarette_Legislation_-_Tax.csv')\n",
        "#use the years available to correlate trends such as if never smoke goes up and more laws are in place, trying to find the law that highest correlates\n",
        "trends_df = pd.read_csv('/content/gdrive/My Drive/CDC/BRFSS_Prevalence_and_Trends_Data__Tobacco_Use_-_Four_Level_Smoking_Data_for_1995-2010.csv')\n",
        "#https://www.hhs.gov/ash/oah/adolescent-development/substance-use/drugs/tobacco/trends/index.html\n",
        "percent_smoking_df = pd.read_csv('/content/gdrive/My Drive/percent_report_smoking.csv')\n",
        "#years 1993-2018 of smokeless tobacco yes\n",
        "smokeless = pd.read_csv('/content/gdrive/My Drive/CDC/smoke_less.csv')\n",
        "#breaks down the smoking status by year \n",
        "youthsurvey = pd.read_csv('/content/gdrive/My Drive/CDC/Youth_Tobacco_Survey__YTS__Data.csv')\n",
        "#percent of retailers supplying minors tobacco\n",
        "retailers_toMinors = pd.read_csv('/content/gdrive/My Drive/CDC/tobacco-retailers-that-sold-tobacco-to-minors-3.csv')"
      ],
      "execution_count": 0,
      "outputs": []
    },
    {
      "cell_type": "code",
      "metadata": {
        "id": "vBpXDuNDyEJO",
        "colab_type": "code",
        "colab": {
          "base_uri": "https://localhost:8080/",
          "height": 296
        },
        "outputId": "4c4f330c-74ca-4b69-fc77-780e0d447e57"
      },
      "source": [
        "#CREATING LISTS OF YEARS FOR EACH DF\n",
        "#1996-2019\n",
        "#print(pd.value_counts(legislation_df['YEAR'], sort=False))\n",
        "\n",
        "def getCounts(df, keys):\n",
        "  helper_list = []\n",
        "  for key in keys:\n",
        "    helper_list.append(df.get(key))\n",
        "  return helper_list\n",
        "\n",
        "\n",
        "year_legislation_df = legislation_df.drop_duplicates('YEAR')\n",
        "counts_licensure = pd.value_counts(licensure_df['YEAR'], sort=False)\n",
        "\n",
        "counts = getCounts(counts_licensure, year_legislation_df['YEAR'])\n",
        "\n",
        "# print(counts_licensure.get_ftype_counts)\n",
        "# #1996-2020\n",
        "year_licensure_df = licensure_df.drop_duplicates('YEAR')\n",
        "# #1996-2020\n",
        "# year_tax_df = tax_df.drop_duplicates('YEAR')\n",
        "# #1996-2010\n",
        "# year_trends_df = trends_df.drop_duplicates('Year')\n",
        "\n",
        "year_counts = pd.value_counts(trends_df['Year'], sort=False)\n",
        "counts_licensure.corr(year_counts)\n",
        "sns.barplot(counts_licensure, counts)\n",
        "# #1976-2018\n",
        "# year_percent_smoking_df = percent_smoking_df.drop_duplicates('Year collected')\n",
        "# #1999-2017\n",
        "# year_youthsurvey = youthsurvey.drop_duplicates('YEAR')\n",
        "# #1997-2018\n",
        "# year_retailers_toMinors = retailers_toMinors.drop_duplicates('YEAR')\n",
        "\n",
        "\n"
      ],
      "execution_count": 195,
      "outputs": [
        {
          "output_type": "execute_result",
          "data": {
            "text/plain": [
              "<matplotlib.axes._subplots.AxesSubplot at 0x7f05128bbe80>"
            ]
          },
          "metadata": {
            "tags": []
          },
          "execution_count": 195
        },
        {
          "output_type": "display_data",
          "data": {
            "image/png": "[encoded data removed]",
            "text/plain": [
              "<Figure size 432x288 with 1 Axes>"
            ]
          },
          "metadata": {
            "tags": []
          }
        }
      ]
    },
    {
      "cell_type": "code",
      "metadata": {
        "id": "_s6t84TtL_9l",
        "colab_type": "code",
        "colab": {}
      },
      "source": [
        ""
      ],
      "execution_count": 0,
      "outputs": []
    },
    {
      "cell_type": "code",
      "metadata": {
        "id": "X-ENINYhBZQD",
        "colab_type": "code",
        "colab": {}
      },
      "source": [
        "#CREATING COUNTS OF occurances\n",
        "count_legislation_df =[]\n"
      ],
      "execution_count": 0,
      "outputs": []
    },
    {
      "cell_type": "code",
      "metadata": {
        "id": "KRPDOLuexwMU",
        "colab_type": "code",
        "colab": {}
      },
      "source": [
        "#plots the trend in percent of minors accessing tobacco from retailers\n",
        "plt.plot(clean_retailers_toMinors['PERCENT'])"
      ],
      "execution_count": 0,
      "outputs": []
    },
    {
      "cell_type": "markdown",
      "metadata": {
        "id": "PgL_nohnAMzB",
        "colab_type": "text"
      },
      "source": [
        "With the data available, I will run correlations between the amount of laws in each category verse the trend in smoking"
      ]
    },
    {
      "cell_type": "code",
      "metadata": {
        "id": "5-UEgw3-gLli",
        "colab_type": "code",
        "colab": {}
      },
      "source": [
        ""
      ],
      "execution_count": 0,
      "outputs": []
    },
    {
      "cell_type": "code",
      "metadata": {
        "id": "cqg7Hy3DZGbh",
        "colab_type": "code",
        "colab": {}
      },
      "source": [
        "import matplotlib.pyplot as plt\n",
        "\n",
        "lic_ProvisionGroupDesc_counts = licensure_df['ProvisionDesc'].value_counts()\n",
        "lic_ProvisionGroupDesc_counts\n",
        "x = []\n",
        "y = []\n"
      ],
      "execution_count": 0,
      "outputs": []
    },
    {
      "cell_type": "code",
      "metadata": {
        "id": "TftGEyTvbhVW",
        "colab_type": "code",
        "colab": {}
      },
      "source": [
        "#Counts the number of Provisions per year\n",
        "count_legislation = len(licensure_df['ProvisionGroupDesc'])\n",
        "count_legislation\n",
        "sns.pairplot(licensure_df)"
      ],
      "execution_count": 0,
      "outputs": []
    },
    {
      "cell_type": "markdown",
      "metadata": {
        "id": "SM3YaNwNaz5T",
        "colab_type": "text"
      },
      "source": [
        "Line Graph of number of legicensure legislation passed over time"
      ]
    },
    {
      "cell_type": "code",
      "metadata": {
        "id": "OrT1bgkcayxi",
        "colab_type": "code",
        "colab": {}
      },
      "source": [
        "x = []\n",
        "y = []\n",
        "\n",
        "\n",
        "x.append(licensure_df['YEAR'])\n",
        "y.append(licensure_df['ProvisionGroupDesc'])\n",
        "\n",
        "plt.plot(x,y, marker='o')\n",
        "\n",
        "plt.title('Data from the CSV File: People and Expenses')\n",
        "\n",
        "plt.xlabel('Number of People')\n",
        "plt.ylabel('Expenses')\n",
        "\n",
        "plt.show()"
      ],
      "execution_count": 0,
      "outputs": []
    }
  ]
}