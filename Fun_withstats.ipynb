{
  "nbformat": 4,
  "nbformat_minor": 0,
  "metadata": {
    "colab": {
      "name": "Fun_withstats.ipynb",
      "provenance": [],
      "authorship_tag": "ABX9TyPjv141TZcGEPAkMJ2kHeVN",
      "include_colab_link": true
    },
    "kernelspec": {
      "name": "python3",
      "display_name": "Python 3"
    }
  },
  "cells": [
    {
      "cell_type": "markdown",
      "metadata": {
        "id": "view-in-github",
        "colab_type": "text"
      },
      "source": [
        "<a href=\"https://colab.research.google.com/github/tastiz/projects.py/blob/master/Fun_withstats.ipynb\" target=\"_parent\"><img src=\"https://colab.research.google.com/assets/colab-badge.svg\" alt=\"Open In Colab\"/></a>"
      ]
    },
    {
      "cell_type": "code",
      "metadata": {
        "id": "CQ-HAy-ijHmc",
        "colab_type": "code",
        "colab": {
          "base_uri": "https://localhost:8080/",
          "height": 34
        },
        "outputId": "24d1f0fc-c7a6-43aa-d861-a867b6a2070a"
      },
      "source": [
        "# To keep the page organized do all imports here\n",
        "from sqlalchemy import create_engine\n",
        "import pandas as pd\n",
        "from scipy import stats\n",
        "import math\n",
        "\n",
        "# Database credentials\n",
        "postgres_user = 'dabc_student'\n",
        "postgres_pw = '7*.8G9QH21'\n",
        "postgres_host = '142.93.121.174'\n",
        "postgres_port = '5432'\n",
        "postgres_db = 'kickstarterprojects'\n",
        "\n",
        "# use the credentials to start a connection\n",
        "engine = create_engine('postgresql://{}:{}@{}:{}/{}'.format(\n",
        "    postgres_user, postgres_pw, postgres_host, postgres_port, postgres_db))\n",
        "\n",
        "projects_df = pd.read_sql_table('ksprojects', con=engine)\n",
        "\n",
        "# remove the connection\n",
        "engine.dispose()\n",
        "\n",
        "#counts the unique values for a given column\n",
        "projects_df['category'].nunique()\n",
        "\n",
        "category_counts = projects_df['category'].value_counts()\n",
        "\n",
        "main_category_counts = projects_df['main_category'].value_counts()\n",
        "\n",
        "country_counts = projects_df['country'].value_counts()\n",
        "\n",
        "currency_counts = projects_df['currency'].value_counts()\n",
        "\n",
        "state_counts = projects_df['state'].value_counts()\n",
        "\n",
        "null_rows = projects_df[projects_df.isnull().any(axis=1)]\n",
        "\n",
        "#replace all null values with a specific value\n",
        "\n",
        "zero_filled = null_rows.fillna(0)\n",
        "\n",
        "#original size of the first data set\n",
        "#print(projects_df.size)\n",
        "\n",
        "#dropping the NaN rows\n",
        "clean_projects = projects_df.dropna()\n",
        "\n",
        "#print(clean_projects.size)\n",
        "\n",
        "def series_statistics(column):\n",
        "  print('statistics for column: {}'.format(column.name))\n",
        "  print('The max value in the column: {}'.format(column.max()))\n",
        "  print('The min value in the column: {}'.format(column.min()))\n",
        "  print('The mode value in the column: {}'.format(column.mode()))\n",
        "  print('The median value in the column: {}'.format(column.median()))\n",
        "  print('The mean of the column: {}'.format(column.mean()))\n",
        "  print('The std of the column: {}'.format(column.std()))\n",
        "\n",
        "#calls the series statistics function\n",
        "#series_statistics(clean_projects['goal'])\n",
        "#series_statistics(clean_projects['usd_pledged'])\n",
        "\n",
        "#descibes columns of interest side by side\n",
        "#clean_projects[['goal', 'usd_pledged', 'backers']].describe()\n",
        "\n",
        "#returns the correlation value for two columns\n",
        "clean_projects['goal'].corr(clean_projects['usd_pledged'])\n",
        "\n",
        "#returnst a table with all the corrleation values for desired columns\n",
        "clean_projects[['goal', 'usd_pledged', 'backers']].corr()\n",
        "\n",
        "#returns the correlation value and p-value\n",
        "stats.pearsonr(clean_projects['backers'], clean_projects['usd_pledged'])\n",
        "\n"
      ],
      "execution_count": 21,
      "outputs": [
        {
          "output_type": "execute_result",
          "data": {
            "text/plain": [
              "(0.5690472468189988, 0.0)"
            ]
          },
          "metadata": {
            "tags": []
          },
          "execution_count": 21
        }
      ]
    },
    {
      "cell_type": "code",
      "metadata": {
        "id": "tN5nuPwgnuXn",
        "colab_type": "code",
        "colab": {
          "base_uri": "https://localhost:8080/",
          "height": 130
        },
        "outputId": "8b224500-96a3-4c3b-9434-7092709c73f7"
      },
      "source": [
        "# Database credentials\n",
        "postgres_user = 'dabc_student'\n",
        "postgres_pw = '7*.8G9QH21'\n",
        "postgres_host = '142.93.121.174'\n",
        "postgres_port = '5432'\n",
        "postgres_db = 'baseball'\n",
        "\n",
        "# use the credentials to start a connection\n",
        "engine = create_engine('postgresql://{}:{}@{}:{}/{}'.format(\n",
        "    postgres_user, postgres_pw, postgres_host, postgres_port, postgres_db))\n",
        "\n",
        "# SQL to select players and salaries\n",
        "sql = 'SELECT p.playerid, birthyear, birthcountry, deathyear, namefirst, namelast, weight, height, bats, throws, yearid, teamid, lgid, salary FROM people p join salaries s on p.playerid = s.playerid'\n",
        "\n",
        "\n",
        "# Use the query to create a DataFrame\n",
        "players_df = pd.read_sql_query(sql, con=engine)\n",
        "\n",
        "# remove the connection\n",
        "engine.dispose()\n",
        "\n",
        "# print 2 rows to see what we got\n",
        "players_df.head(2)\n",
        "\n",
        "players_1990 = players_df.iloc[(players_df['yearid']==1990).values]\n",
        "players_2000 = players_df.iloc[(players_df['yearid']==2000).values]\n",
        "\n",
        "stats.ttest_ind(players_1990['salary'], players_2000['salary'])\n",
        "\n",
        "sample_1_n = players_1990.shape[0]\n",
        "sample_2_n = players_2000.shape[0]\n",
        "sample_1_mean = players_1990['salary'].mean()\n",
        "sample_2_mean = players_2000['salary'].mean()\n",
        "sample_1_var = players_1990['salary'].var()\n",
        "sample_2_var = players_2000['salary'].var()\n",
        "\n",
        "import math\n",
        "std_err_difference =math.sqrt((sample_1_var/sample_1_n)+(sample_2_var/sample_2_n))\n",
        "\n",
        "mean_difference = sample_2_mean - sample_1_mean\n",
        "margin_of_error = 1.96 * std_err_difference\n",
        "ci_lower = mean_difference - margin_of_error\n",
        "ci_upper = mean_difference + margin_of_error\n",
        "\n",
        "#print(\"The difference in means at the 95% confidence interval is between \"+str(ci_lower)+\" and \"+str(ci_upper)+\".\")\n",
        "\n",
        "def get_95_ci(arrary1, arrary2):\n",
        "  sample_1_n = players_1990.shape[0]\n",
        "  sample_2_n = players_2000.shape[0]\n",
        "  sample_1_mean = players_1990['salary'].mean()\n",
        "  sample_2_mean = players_2000['salary'].mean()\n",
        "  sample_1_var = players_1990['salary'].var()\n",
        "  sample_2_var = players_2000['salary'].var()\n",
        "  mean_difference = sample_2_mean - sample_1_mean\n",
        "  std_err_difference =math.sqrt((sample_1_var/sample_1_n)+(sample_2_var/sample_2_n))\n",
        "  margin_of_error = 1.96 * std_err_difference\n",
        "  ci_lower = mean_difference - margin_of_error\n",
        "  ci_upper = mean_difference + margin_of_error\n",
        "  print(\"The difference in means at the 95% confidence interval is between \"+str(ci_lower)+\" and \"+str(ci_upper)+\".\")\n",
        "\n",
        "get_95_ci(players_1990, players_2000)"
      ],
      "execution_count": 29,
      "outputs": [
        {
          "output_type": "error",
          "ename": "SyntaxError",
          "evalue": "ignored",
          "traceback": [
            "\u001b[0;36m  File \u001b[0;32m\"<ipython-input-29-b70c7829d1da>\"\u001b[0;36m, line \u001b[0;32m46\u001b[0m\n\u001b[0;31m    def ci.95(arrary1, arrary2):\u001b[0m\n\u001b[0m            ^\u001b[0m\n\u001b[0;31mSyntaxError\u001b[0m\u001b[0;31m:\u001b[0m invalid syntax\n"
          ]
        }
      ]
    },
    {
      "cell_type": "code",
      "metadata": {
        "id": "n_pq8JR86Jbm",
        "colab_type": "code",
        "colab": {}
      },
      "source": [
        "def get_95_ci(array_1, array_2):\n",
        "    sample_1_n = array_1.shape[0]\n",
        "    sample_2_n = array_2.shape[0]\n",
        "    sample_1_mean = array_1.mean()\n",
        "    sample_2_mean = array_2.mean()\n",
        "    sample_1_var = array_1.var()\n",
        "    sample_2_var = array_2.var()\n",
        "    mean_difference = sample_2_mean - sample_1_mean\n",
        "    std_err_difference = math.sqrt((sample_1_var/sample_1_n)+(sample_2_var/sample_2_n))\n",
        "    margin_of_error = 1.96 * std_err_difference\n",
        "    ci_lower = mean_difference - margin_of_error\n",
        "    ci_upper = mean_difference + margin_of_error\n",
        "    return(\"The difference in means at the 95% confidence interval (two-tail) is between \"+str(ci_lower)+\" and \"+str(ci_upper)+\".\")"
      ],
      "execution_count": 0,
      "outputs": []
    }
  ]
}